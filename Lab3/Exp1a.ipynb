{
 "cells": [
  {
   "cell_type": "code",
   "execution_count": 113,
   "id": "initial_id",
   "metadata": {
    "collapsed": true,
    "ExecuteTime": {
     "end_time": "2024-06-03T16:09:43.092103Z",
     "start_time": "2024-06-03T16:09:42.408507400Z"
    }
   },
   "outputs": [],
   "source": [
    "import numpy as np\n",
    "from sklearn.datasets import load_svmlight_file\n",
    "from optimization import barrier_method_lasso\n",
    "\n",
    "import plotly.graph_objects as go\n",
    "\n",
    "%reload_ext autoreload\n",
    "%autoreload 2"
   ]
  },
  {
   "cell_type": "code",
   "outputs": [],
   "source": [
    "A, b = load_svmlight_file('abalone_scale.txt')"
   ],
   "metadata": {
    "collapsed": false,
    "ExecuteTime": {
     "end_time": "2024-06-03T16:09:43.751029200Z",
     "start_time": "2024-06-03T16:09:43.098167300Z"
    }
   },
   "id": "351366744dd86ad9",
   "execution_count": 114
  },
  {
   "cell_type": "code",
   "outputs": [],
   "source": [
    "x0 = np.ones(A.shape[1]) * 5\n",
    "u0 = x0 + 1\n"
   ],
   "metadata": {
    "collapsed": false,
    "ExecuteTime": {
     "end_time": "2024-06-03T16:09:44.472031600Z",
     "start_time": "2024-06-03T16:09:43.755802700Z"
    }
   },
   "id": "20ea0546efd7f139",
   "execution_count": 115
  },
  {
   "cell_type": "markdown",
   "source": [
    "## Чувствительность метода к выбору параметров $\\gamma$ и $\\epsilon_{inner}$"
   ],
   "metadata": {
    "collapsed": false
   },
   "id": "8b736d8783ba874b"
  },
  {
   "cell_type": "markdown",
   "source": [
    "### $\\gamma$"
   ],
   "metadata": {
    "collapsed": false
   },
   "id": "de6f53c50613ed83"
  },
  {
   "cell_type": "code",
   "outputs": [],
   "source": [
    "gammas = [5, 10, 25, 50, 100, 250, 500, 1000]"
   ],
   "metadata": {
    "collapsed": false,
    "ExecuteTime": {
     "end_time": "2024-06-03T16:09:45.287931500Z",
     "start_time": "2024-06-03T16:09:44.472031600Z"
    }
   },
   "id": "c599c8cb92d7bc80",
   "execution_count": 116
  },
  {
   "cell_type": "code",
   "outputs": [],
   "source": [
    "dict_gaps = {gamma_i: {'gap': None, 'sec': None, 'iters': None} for gamma_i in gammas}"
   ],
   "metadata": {
    "collapsed": false,
    "ExecuteTime": {
     "end_time": "2024-06-03T16:09:45.985644200Z",
     "start_time": "2024-06-03T16:09:45.284356100Z"
    }
   },
   "id": "e6008d9b94bc847c",
   "execution_count": 117
  },
  {
   "cell_type": "code",
   "outputs": [
    {
     "name": "stdout",
     "output_type": "stream",
     "text": [
      "Newton coveraged on 0 iteration\n",
      "Newton coveraged on 1 iteration\n",
      "Newton coveraged on 2 iteration\n",
      "Newton coveraged on 3 iteration\n",
      "Newton coveraged on 4 iteration\n",
      "Newton coveraged on 5 iteration\n",
      "Newton coveraged on 6 iteration\n",
      "Newton coveraged on 7 iteration\n",
      "Newton coveraged on 8 iteration\n",
      "Newton coveraged on 9 iteration\n",
      "Newton coveraged on 10 iteration\n",
      "Newton coveraged on 11 iteration\n",
      "Newton coveraged on 12 iteration\n",
      "Newton coveraged on 13 iteration\n",
      "Newton coveraged on 14 iteration\n",
      "Newton coveraged on 15 iteration\n",
      "Newton coveraged on 0 iteration\n",
      "Newton coveraged on 1 iteration\n",
      "Newton coveraged on 2 iteration\n",
      "Newton coveraged on 3 iteration\n",
      "Newton coveraged on 4 iteration\n",
      "Newton coveraged on 5 iteration\n",
      "Newton coveraged on 6 iteration\n",
      "Newton coveraged on 7 iteration\n",
      "Newton coveraged on 8 iteration\n",
      "Newton coveraged on 9 iteration\n",
      "Newton didn't coverage on 10 iteration\n",
      "Newton coveraged on 0 iteration\n",
      "Newton coveraged on 1 iteration\n",
      "Newton coveraged on 2 iteration\n",
      "Newton coveraged on 3 iteration\n",
      "Newton coveraged on 4 iteration\n",
      "Newton coveraged on 5 iteration\n",
      "Newton coveraged on 6 iteration\n",
      "Newton didn't coverage on 7 iteration\n",
      "Newton coveraged on 8 iteration\n",
      "Newton coveraged on 0 iteration\n",
      "Newton coveraged on 1 iteration\n",
      "Newton coveraged on 2 iteration\n",
      "Newton coveraged on 3 iteration\n",
      "Newton coveraged on 4 iteration\n",
      "Newton coveraged on 5 iteration\n",
      "Newton coveraged on 6 iteration\n",
      "Newton coveraged on 0 iteration\n",
      "Newton coveraged on 1 iteration\n",
      "Newton coveraged on 2 iteration\n",
      "Newton coveraged on 3 iteration\n",
      "Newton coveraged on 4 iteration\n",
      "Newton coveraged on 5 iteration\n",
      "Newton coveraged on 0 iteration\n",
      "Newton coveraged on 1 iteration\n",
      "Newton coveraged on 2 iteration\n",
      "Newton coveraged on 3 iteration\n",
      "Newton coveraged on 4 iteration\n",
      "Newton coveraged on 5 iteration\n",
      "Newton coveraged on 0 iteration\n",
      "Newton coveraged on 1 iteration\n",
      "Newton coveraged on 2 iteration\n",
      "Newton coveraged on 3 iteration\n",
      "Newton coveraged on 4 iteration\n",
      "Newton coveraged on 0 iteration\n",
      "Newton coveraged on 1 iteration\n",
      "Newton coveraged on 2 iteration\n",
      "Newton coveraged on 3 iteration\n",
      "Newton coveraged on 4 iteration\n"
     ]
    }
   ],
   "source": [
    "for gamma_i in gammas:\n",
    "    xu, mes, hist = barrier_method_lasso(A, b, 1e-3, x0, u0, trace=True, display=True, tolerance=1e-9, gamma=gamma_i)\n",
    "    dict_gaps[gamma_i]['gap'] = hist['duality_gap']\n",
    "    dict_gaps[gamma_i]['sec'] = hist['time']\n",
    "    dict_gaps[gamma_i]['iters'] = len(hist['duality_gap'])"
   ],
   "metadata": {
    "collapsed": false,
    "ExecuteTime": {
     "end_time": "2024-06-03T16:09:49.935324100Z",
     "start_time": "2024-06-03T16:09:45.986790500Z"
    }
   },
   "id": "53daee7972301c6e",
   "execution_count": 118
  },
  {
   "cell_type": "code",
   "outputs": [
    {
     "data": {
      "application/vnd.plotly.v1+json": {
       "data": [
        {
         "mode": "lines+markers",
         "name": "5",
         "showlegend": true,
         "x": [
          1,
          2,
          3,
          4,
          5,
          6,
          7,
          8,
          9,
          10,
          11,
          12,
          13,
          14,
          15,
          16,
          17
         ],
         "y": [
          6.045746323682602,
          4.026816185373785,
          -1.2528823479989941,
          -1.3158490000629683,
          -1.5610965887580806,
          -2.029642200716323,
          -2.6291595676709294,
          -3.2984134585526763,
          -3.9912304268194636,
          -4.6889752321764115,
          -5.3876982653788374,
          -6.086573377539748,
          -6.785792228630477,
          -7.484222281496327,
          -8.180263205859154,
          -8.886471619119092,
          -9.668287823589141
         ],
         "type": "scatter"
        },
        {
         "mode": "lines+markers",
         "name": "10",
         "showlegend": true,
         "x": [
          1,
          2,
          3,
          4,
          5,
          6,
          7,
          8,
          9,
          10,
          11,
          12
         ],
         "y": [
          6.045746323682602,
          4.026816185373785,
          -1.2684399337163608,
          -1.5122471756389095,
          -2.194682919586316,
          -3.1089236600814805,
          -4.098105362344363,
          -5.0970269958370835,
          -6.096934355954944,
          -7.097033119851829,
          -8.097507499453231,
          -9.098695720391166
         ],
         "type": "scatter"
        },
        {
         "mode": "lines+markers",
         "name": "25",
         "showlegend": true,
         "x": [
          1,
          2,
          3,
          4,
          5,
          6,
          7,
          8,
          9,
          10
         ],
         "y": [
          6.045746323682602,
          4.026816185373785,
          -1.3158489761622563,
          -2.0296422034228145,
          -3.298413508807522,
          -4.68897500057519,
          -6.086598448660085,
          -7.484511457724015,
          -8.88043126469812,
          -10.208690913853012
         ],
         "type": "scatter"
        },
        {
         "mode": "lines+markers",
         "name": "50",
         "showlegend": true,
         "x": [
          1,
          2,
          3,
          4,
          5,
          6,
          7,
          8
         ],
         "y": [
          6.045746323682602,
          4.026816185373785,
          -1.3908335089088932,
          -2.540738008624469,
          -4.194775789994272,
          -5.892803263766001,
          -7.591690572732112,
          -9.3152881942642
         ],
         "type": "scatter"
        },
        {
         "mode": "lines+markers",
         "name": "100",
         "showlegend": true,
         "x": [
          1,
          2,
          3,
          4,
          5,
          6,
          7
         ],
         "y": [
          6.045746323682602,
          4.026816185373785,
          -1.5122424705117385,
          -3.1089236702331657,
          -5.097025415460199,
          -7.097072631700276,
          -9.114857379933593
         ],
         "type": "scatter"
        },
        {
         "mode": "lines+markers",
         "name": "250",
         "showlegend": true,
         "x": [
          1,
          2,
          3,
          4,
          5,
          6,
          7
         ],
         "y": [
          6.045746323682602,
          4.026816185373785,
          -1.7403703777517654,
          -3.8947036900193854,
          -6.2907346318866075,
          -8.692505636293706,
          -10.138109839567305
         ],
         "type": "scatter"
        },
        {
         "mode": "lines+markers",
         "name": "500",
         "showlegend": true,
         "x": [
          1,
          2,
          3,
          4,
          5,
          6
         ],
         "y": [
          6.045746323682602,
          4.026816185373785,
          -1.954817126254459,
          -4.495327431227515,
          -7.193577818575323,
          -9.56990811550031
         ],
         "type": "scatter"
        },
        {
         "mode": "lines+markers",
         "name": "1000",
         "showlegend": true,
         "x": [
          1,
          2,
          3,
          4,
          5,
          6
         ],
         "y": [
          6.045746323682602,
          4.026816185373785,
          -2.194682829052998,
          -5.0970250203668765,
          -8.099688393924845,
          -10.208690913853012
         ],
         "type": "scatter"
        }
       ],
       "layout": {
        "autosize": false,
        "height": 600,
        "margin": {
         "b": 100,
         "l": 50,
         "pad": 4,
         "r": 50,
         "t": 100
        },
        "title": {
         "text": "Гарантируемая точность по зазору двойственности против числа итераций"
        },
        "width": 800,
        "xaxis": {
         "linecolor": "black",
         "linewidth": 1,
         "mirror": true,
         "title": {
          "text": "Количество итераций метода"
         }
        },
        "yaxis": {
         "linecolor": "black",
         "linewidth": 1,
         "mirror": true,
         "title": {
          "text": "$log_{10}\\left( gap \\right)$"
         }
        },
        "template": {
         "data": {
          "histogram2dcontour": [
           {
            "type": "histogram2dcontour",
            "colorbar": {
             "outlinewidth": 0,
             "ticks": ""
            },
            "colorscale": [
             [
              0.0,
              "#0d0887"
             ],
             [
              0.1111111111111111,
              "#46039f"
             ],
             [
              0.2222222222222222,
              "#7201a8"
             ],
             [
              0.3333333333333333,
              "#9c179e"
             ],
             [
              0.4444444444444444,
              "#bd3786"
             ],
             [
              0.5555555555555556,
              "#d8576b"
             ],
             [
              0.6666666666666666,
              "#ed7953"
             ],
             [
              0.7777777777777778,
              "#fb9f3a"
             ],
             [
              0.8888888888888888,
              "#fdca26"
             ],
             [
              1.0,
              "#f0f921"
             ]
            ]
           }
          ],
          "choropleth": [
           {
            "type": "choropleth",
            "colorbar": {
             "outlinewidth": 0,
             "ticks": ""
            }
           }
          ],
          "histogram2d": [
           {
            "type": "histogram2d",
            "colorbar": {
             "outlinewidth": 0,
             "ticks": ""
            },
            "colorscale": [
             [
              0.0,
              "#0d0887"
             ],
             [
              0.1111111111111111,
              "#46039f"
             ],
             [
              0.2222222222222222,
              "#7201a8"
             ],
             [
              0.3333333333333333,
              "#9c179e"
             ],
             [
              0.4444444444444444,
              "#bd3786"
             ],
             [
              0.5555555555555556,
              "#d8576b"
             ],
             [
              0.6666666666666666,
              "#ed7953"
             ],
             [
              0.7777777777777778,
              "#fb9f3a"
             ],
             [
              0.8888888888888888,
              "#fdca26"
             ],
             [
              1.0,
              "#f0f921"
             ]
            ]
           }
          ],
          "heatmap": [
           {
            "type": "heatmap",
            "colorbar": {
             "outlinewidth": 0,
             "ticks": ""
            },
            "colorscale": [
             [
              0.0,
              "#0d0887"
             ],
             [
              0.1111111111111111,
              "#46039f"
             ],
             [
              0.2222222222222222,
              "#7201a8"
             ],
             [
              0.3333333333333333,
              "#9c179e"
             ],
             [
              0.4444444444444444,
              "#bd3786"
             ],
             [
              0.5555555555555556,
              "#d8576b"
             ],
             [
              0.6666666666666666,
              "#ed7953"
             ],
             [
              0.7777777777777778,
              "#fb9f3a"
             ],
             [
              0.8888888888888888,
              "#fdca26"
             ],
             [
              1.0,
              "#f0f921"
             ]
            ]
           }
          ],
          "heatmapgl": [
           {
            "type": "heatmapgl",
            "colorbar": {
             "outlinewidth": 0,
             "ticks": ""
            },
            "colorscale": [
             [
              0.0,
              "#0d0887"
             ],
             [
              0.1111111111111111,
              "#46039f"
             ],
             [
              0.2222222222222222,
              "#7201a8"
             ],
             [
              0.3333333333333333,
              "#9c179e"
             ],
             [
              0.4444444444444444,
              "#bd3786"
             ],
             [
              0.5555555555555556,
              "#d8576b"
             ],
             [
              0.6666666666666666,
              "#ed7953"
             ],
             [
              0.7777777777777778,
              "#fb9f3a"
             ],
             [
              0.8888888888888888,
              "#fdca26"
             ],
             [
              1.0,
              "#f0f921"
             ]
            ]
           }
          ],
          "contourcarpet": [
           {
            "type": "contourcarpet",
            "colorbar": {
             "outlinewidth": 0,
             "ticks": ""
            }
           }
          ],
          "contour": [
           {
            "type": "contour",
            "colorbar": {
             "outlinewidth": 0,
             "ticks": ""
            },
            "colorscale": [
             [
              0.0,
              "#0d0887"
             ],
             [
              0.1111111111111111,
              "#46039f"
             ],
             [
              0.2222222222222222,
              "#7201a8"
             ],
             [
              0.3333333333333333,
              "#9c179e"
             ],
             [
              0.4444444444444444,
              "#bd3786"
             ],
             [
              0.5555555555555556,
              "#d8576b"
             ],
             [
              0.6666666666666666,
              "#ed7953"
             ],
             [
              0.7777777777777778,
              "#fb9f3a"
             ],
             [
              0.8888888888888888,
              "#fdca26"
             ],
             [
              1.0,
              "#f0f921"
             ]
            ]
           }
          ],
          "surface": [
           {
            "type": "surface",
            "colorbar": {
             "outlinewidth": 0,
             "ticks": ""
            },
            "colorscale": [
             [
              0.0,
              "#0d0887"
             ],
             [
              0.1111111111111111,
              "#46039f"
             ],
             [
              0.2222222222222222,
              "#7201a8"
             ],
             [
              0.3333333333333333,
              "#9c179e"
             ],
             [
              0.4444444444444444,
              "#bd3786"
             ],
             [
              0.5555555555555556,
              "#d8576b"
             ],
             [
              0.6666666666666666,
              "#ed7953"
             ],
             [
              0.7777777777777778,
              "#fb9f3a"
             ],
             [
              0.8888888888888888,
              "#fdca26"
             ],
             [
              1.0,
              "#f0f921"
             ]
            ]
           }
          ],
          "mesh3d": [
           {
            "type": "mesh3d",
            "colorbar": {
             "outlinewidth": 0,
             "ticks": ""
            }
           }
          ],
          "scatter": [
           {
            "fillpattern": {
             "fillmode": "overlay",
             "size": 10,
             "solidity": 0.2
            },
            "type": "scatter"
           }
          ],
          "parcoords": [
           {
            "type": "parcoords",
            "line": {
             "colorbar": {
              "outlinewidth": 0,
              "ticks": ""
             }
            }
           }
          ],
          "scatterpolargl": [
           {
            "type": "scatterpolargl",
            "marker": {
             "colorbar": {
              "outlinewidth": 0,
              "ticks": ""
             }
            }
           }
          ],
          "bar": [
           {
            "error_x": {
             "color": "#2a3f5f"
            },
            "error_y": {
             "color": "#2a3f5f"
            },
            "marker": {
             "line": {
              "color": "#E5ECF6",
              "width": 0.5
             },
             "pattern": {
              "fillmode": "overlay",
              "size": 10,
              "solidity": 0.2
             }
            },
            "type": "bar"
           }
          ],
          "scattergeo": [
           {
            "type": "scattergeo",
            "marker": {
             "colorbar": {
              "outlinewidth": 0,
              "ticks": ""
             }
            }
           }
          ],
          "scatterpolar": [
           {
            "type": "scatterpolar",
            "marker": {
             "colorbar": {
              "outlinewidth": 0,
              "ticks": ""
             }
            }
           }
          ],
          "histogram": [
           {
            "marker": {
             "pattern": {
              "fillmode": "overlay",
              "size": 10,
              "solidity": 0.2
             }
            },
            "type": "histogram"
           }
          ],
          "scattergl": [
           {
            "type": "scattergl",
            "marker": {
             "colorbar": {
              "outlinewidth": 0,
              "ticks": ""
             }
            }
           }
          ],
          "scatter3d": [
           {
            "type": "scatter3d",
            "line": {
             "colorbar": {
              "outlinewidth": 0,
              "ticks": ""
             }
            },
            "marker": {
             "colorbar": {
              "outlinewidth": 0,
              "ticks": ""
             }
            }
           }
          ],
          "scattermapbox": [
           {
            "type": "scattermapbox",
            "marker": {
             "colorbar": {
              "outlinewidth": 0,
              "ticks": ""
             }
            }
           }
          ],
          "scatterternary": [
           {
            "type": "scatterternary",
            "marker": {
             "colorbar": {
              "outlinewidth": 0,
              "ticks": ""
             }
            }
           }
          ],
          "scattercarpet": [
           {
            "type": "scattercarpet",
            "marker": {
             "colorbar": {
              "outlinewidth": 0,
              "ticks": ""
             }
            }
           }
          ],
          "carpet": [
           {
            "aaxis": {
             "endlinecolor": "#2a3f5f",
             "gridcolor": "white",
             "linecolor": "white",
             "minorgridcolor": "white",
             "startlinecolor": "#2a3f5f"
            },
            "baxis": {
             "endlinecolor": "#2a3f5f",
             "gridcolor": "white",
             "linecolor": "white",
             "minorgridcolor": "white",
             "startlinecolor": "#2a3f5f"
            },
            "type": "carpet"
           }
          ],
          "table": [
           {
            "cells": {
             "fill": {
              "color": "#EBF0F8"
             },
             "line": {
              "color": "white"
             }
            },
            "header": {
             "fill": {
              "color": "#C8D4E3"
             },
             "line": {
              "color": "white"
             }
            },
            "type": "table"
           }
          ],
          "barpolar": [
           {
            "marker": {
             "line": {
              "color": "#E5ECF6",
              "width": 0.5
             },
             "pattern": {
              "fillmode": "overlay",
              "size": 10,
              "solidity": 0.2
             }
            },
            "type": "barpolar"
           }
          ],
          "pie": [
           {
            "automargin": true,
            "type": "pie"
           }
          ]
         },
         "layout": {
          "autotypenumbers": "strict",
          "colorway": [
           "#636efa",
           "#EF553B",
           "#00cc96",
           "#ab63fa",
           "#FFA15A",
           "#19d3f3",
           "#FF6692",
           "#B6E880",
           "#FF97FF",
           "#FECB52"
          ],
          "font": {
           "color": "#2a3f5f"
          },
          "hovermode": "closest",
          "hoverlabel": {
           "align": "left"
          },
          "paper_bgcolor": "white",
          "plot_bgcolor": "#E5ECF6",
          "polar": {
           "bgcolor": "#E5ECF6",
           "angularaxis": {
            "gridcolor": "white",
            "linecolor": "white",
            "ticks": ""
           },
           "radialaxis": {
            "gridcolor": "white",
            "linecolor": "white",
            "ticks": ""
           }
          },
          "ternary": {
           "bgcolor": "#E5ECF6",
           "aaxis": {
            "gridcolor": "white",
            "linecolor": "white",
            "ticks": ""
           },
           "baxis": {
            "gridcolor": "white",
            "linecolor": "white",
            "ticks": ""
           },
           "caxis": {
            "gridcolor": "white",
            "linecolor": "white",
            "ticks": ""
           }
          },
          "coloraxis": {
           "colorbar": {
            "outlinewidth": 0,
            "ticks": ""
           }
          },
          "colorscale": {
           "sequential": [
            [
             0.0,
             "#0d0887"
            ],
            [
             0.1111111111111111,
             "#46039f"
            ],
            [
             0.2222222222222222,
             "#7201a8"
            ],
            [
             0.3333333333333333,
             "#9c179e"
            ],
            [
             0.4444444444444444,
             "#bd3786"
            ],
            [
             0.5555555555555556,
             "#d8576b"
            ],
            [
             0.6666666666666666,
             "#ed7953"
            ],
            [
             0.7777777777777778,
             "#fb9f3a"
            ],
            [
             0.8888888888888888,
             "#fdca26"
            ],
            [
             1.0,
             "#f0f921"
            ]
           ],
           "sequentialminus": [
            [
             0.0,
             "#0d0887"
            ],
            [
             0.1111111111111111,
             "#46039f"
            ],
            [
             0.2222222222222222,
             "#7201a8"
            ],
            [
             0.3333333333333333,
             "#9c179e"
            ],
            [
             0.4444444444444444,
             "#bd3786"
            ],
            [
             0.5555555555555556,
             "#d8576b"
            ],
            [
             0.6666666666666666,
             "#ed7953"
            ],
            [
             0.7777777777777778,
             "#fb9f3a"
            ],
            [
             0.8888888888888888,
             "#fdca26"
            ],
            [
             1.0,
             "#f0f921"
            ]
           ],
           "diverging": [
            [
             0,
             "#8e0152"
            ],
            [
             0.1,
             "#c51b7d"
            ],
            [
             0.2,
             "#de77ae"
            ],
            [
             0.3,
             "#f1b6da"
            ],
            [
             0.4,
             "#fde0ef"
            ],
            [
             0.5,
             "#f7f7f7"
            ],
            [
             0.6,
             "#e6f5d0"
            ],
            [
             0.7,
             "#b8e186"
            ],
            [
             0.8,
             "#7fbc41"
            ],
            [
             0.9,
             "#4d9221"
            ],
            [
             1,
             "#276419"
            ]
           ]
          },
          "xaxis": {
           "gridcolor": "white",
           "linecolor": "white",
           "ticks": "",
           "title": {
            "standoff": 15
           },
           "zerolinecolor": "white",
           "automargin": true,
           "zerolinewidth": 2
          },
          "yaxis": {
           "gridcolor": "white",
           "linecolor": "white",
           "ticks": "",
           "title": {
            "standoff": 15
           },
           "zerolinecolor": "white",
           "automargin": true,
           "zerolinewidth": 2
          },
          "scene": {
           "xaxis": {
            "backgroundcolor": "#E5ECF6",
            "gridcolor": "white",
            "linecolor": "white",
            "showbackground": true,
            "ticks": "",
            "zerolinecolor": "white",
            "gridwidth": 2
           },
           "yaxis": {
            "backgroundcolor": "#E5ECF6",
            "gridcolor": "white",
            "linecolor": "white",
            "showbackground": true,
            "ticks": "",
            "zerolinecolor": "white",
            "gridwidth": 2
           },
           "zaxis": {
            "backgroundcolor": "#E5ECF6",
            "gridcolor": "white",
            "linecolor": "white",
            "showbackground": true,
            "ticks": "",
            "zerolinecolor": "white",
            "gridwidth": 2
           }
          },
          "shapedefaults": {
           "line": {
            "color": "#2a3f5f"
           }
          },
          "annotationdefaults": {
           "arrowcolor": "#2a3f5f",
           "arrowhead": 0,
           "arrowwidth": 1
          },
          "geo": {
           "bgcolor": "white",
           "landcolor": "#E5ECF6",
           "subunitcolor": "white",
           "showland": true,
           "showlakes": true,
           "lakecolor": "white"
          },
          "title": {
           "x": 0.05
          },
          "mapbox": {
           "style": "light"
          }
         }
        },
        "legend": {
         "title": {
          "text": "Gamma:"
         }
        }
       },
       "config": {
        "plotlyServerURL": "https://plot.ly"
       }
      },
      "text/html": "<div>                            <div id=\"12a86116-db15-4055-ac3f-78c022a6a2d1\" class=\"plotly-graph-div\" style=\"height:600px; width:800px;\"></div>            <script type=\"text/javascript\">                require([\"plotly\"], function(Plotly) {                    window.PLOTLYENV=window.PLOTLYENV || {};                                    if (document.getElementById(\"12a86116-db15-4055-ac3f-78c022a6a2d1\")) {                    Plotly.newPlot(                        \"12a86116-db15-4055-ac3f-78c022a6a2d1\",                        [{\"mode\":\"lines+markers\",\"name\":\"5\",\"showlegend\":true,\"x\":[1,2,3,4,5,6,7,8,9,10,11,12,13,14,15,16,17],\"y\":[6.045746323682602,4.026816185373785,-1.2528823479989941,-1.3158490000629683,-1.5610965887580806,-2.029642200716323,-2.6291595676709294,-3.2984134585526763,-3.9912304268194636,-4.6889752321764115,-5.3876982653788374,-6.086573377539748,-6.785792228630477,-7.484222281496327,-8.180263205859154,-8.886471619119092,-9.668287823589141],\"type\":\"scatter\"},{\"mode\":\"lines+markers\",\"name\":\"10\",\"showlegend\":true,\"x\":[1,2,3,4,5,6,7,8,9,10,11,12],\"y\":[6.045746323682602,4.026816185373785,-1.2684399337163608,-1.5122471756389095,-2.194682919586316,-3.1089236600814805,-4.098105362344363,-5.0970269958370835,-6.096934355954944,-7.097033119851829,-8.097507499453231,-9.098695720391166],\"type\":\"scatter\"},{\"mode\":\"lines+markers\",\"name\":\"25\",\"showlegend\":true,\"x\":[1,2,3,4,5,6,7,8,9,10],\"y\":[6.045746323682602,4.026816185373785,-1.3158489761622563,-2.0296422034228145,-3.298413508807522,-4.68897500057519,-6.086598448660085,-7.484511457724015,-8.88043126469812,-10.208690913853012],\"type\":\"scatter\"},{\"mode\":\"lines+markers\",\"name\":\"50\",\"showlegend\":true,\"x\":[1,2,3,4,5,6,7,8],\"y\":[6.045746323682602,4.026816185373785,-1.3908335089088932,-2.540738008624469,-4.194775789994272,-5.892803263766001,-7.591690572732112,-9.3152881942642],\"type\":\"scatter\"},{\"mode\":\"lines+markers\",\"name\":\"100\",\"showlegend\":true,\"x\":[1,2,3,4,5,6,7],\"y\":[6.045746323682602,4.026816185373785,-1.5122424705117385,-3.1089236702331657,-5.097025415460199,-7.097072631700276,-9.114857379933593],\"type\":\"scatter\"},{\"mode\":\"lines+markers\",\"name\":\"250\",\"showlegend\":true,\"x\":[1,2,3,4,5,6,7],\"y\":[6.045746323682602,4.026816185373785,-1.7403703777517654,-3.8947036900193854,-6.2907346318866075,-8.692505636293706,-10.138109839567305],\"type\":\"scatter\"},{\"mode\":\"lines+markers\",\"name\":\"500\",\"showlegend\":true,\"x\":[1,2,3,4,5,6],\"y\":[6.045746323682602,4.026816185373785,-1.954817126254459,-4.495327431227515,-7.193577818575323,-9.56990811550031],\"type\":\"scatter\"},{\"mode\":\"lines+markers\",\"name\":\"1000\",\"showlegend\":true,\"x\":[1,2,3,4,5,6],\"y\":[6.045746323682602,4.026816185373785,-2.194682829052998,-5.0970250203668765,-8.099688393924845,-10.208690913853012],\"type\":\"scatter\"}],                        {\"autosize\":false,\"height\":600,\"margin\":{\"b\":100,\"l\":50,\"pad\":4,\"r\":50,\"t\":100},\"title\":{\"text\":\"\\u0413\\u0430\\u0440\\u0430\\u043d\\u0442\\u0438\\u0440\\u0443\\u0435\\u043c\\u0430\\u044f \\u0442\\u043e\\u0447\\u043d\\u043e\\u0441\\u0442\\u044c \\u043f\\u043e \\u0437\\u0430\\u0437\\u043e\\u0440\\u0443 \\u0434\\u0432\\u043e\\u0439\\u0441\\u0442\\u0432\\u0435\\u043d\\u043d\\u043e\\u0441\\u0442\\u0438 \\u043f\\u0440\\u043e\\u0442\\u0438\\u0432 \\u0447\\u0438\\u0441\\u043b\\u0430 \\u0438\\u0442\\u0435\\u0440\\u0430\\u0446\\u0438\\u0439\"},\"width\":800,\"xaxis\":{\"linecolor\":\"black\",\"linewidth\":1,\"mirror\":true,\"title\":{\"text\":\"\\u041a\\u043e\\u043b\\u0438\\u0447\\u0435\\u0441\\u0442\\u0432\\u043e \\u0438\\u0442\\u0435\\u0440\\u0430\\u0446\\u0438\\u0439 \\u043c\\u0435\\u0442\\u043e\\u0434\\u0430\"}},\"yaxis\":{\"linecolor\":\"black\",\"linewidth\":1,\"mirror\":true,\"title\":{\"text\":\"$log_{10}\\\\left( gap \\\\right)$\"}},\"template\":{\"data\":{\"histogram2dcontour\":[{\"type\":\"histogram2dcontour\",\"colorbar\":{\"outlinewidth\":0,\"ticks\":\"\"},\"colorscale\":[[0.0,\"#0d0887\"],[0.1111111111111111,\"#46039f\"],[0.2222222222222222,\"#7201a8\"],[0.3333333333333333,\"#9c179e\"],[0.4444444444444444,\"#bd3786\"],[0.5555555555555556,\"#d8576b\"],[0.6666666666666666,\"#ed7953\"],[0.7777777777777778,\"#fb9f3a\"],[0.8888888888888888,\"#fdca26\"],[1.0,\"#f0f921\"]]}],\"choropleth\":[{\"type\":\"choropleth\",\"colorbar\":{\"outlinewidth\":0,\"ticks\":\"\"}}],\"histogram2d\":[{\"type\":\"histogram2d\",\"colorbar\":{\"outlinewidth\":0,\"ticks\":\"\"},\"colorscale\":[[0.0,\"#0d0887\"],[0.1111111111111111,\"#46039f\"],[0.2222222222222222,\"#7201a8\"],[0.3333333333333333,\"#9c179e\"],[0.4444444444444444,\"#bd3786\"],[0.5555555555555556,\"#d8576b\"],[0.6666666666666666,\"#ed7953\"],[0.7777777777777778,\"#fb9f3a\"],[0.8888888888888888,\"#fdca26\"],[1.0,\"#f0f921\"]]}],\"heatmap\":[{\"type\":\"heatmap\",\"colorbar\":{\"outlinewidth\":0,\"ticks\":\"\"},\"colorscale\":[[0.0,\"#0d0887\"],[0.1111111111111111,\"#46039f\"],[0.2222222222222222,\"#7201a8\"],[0.3333333333333333,\"#9c179e\"],[0.4444444444444444,\"#bd3786\"],[0.5555555555555556,\"#d8576b\"],[0.6666666666666666,\"#ed7953\"],[0.7777777777777778,\"#fb9f3a\"],[0.8888888888888888,\"#fdca26\"],[1.0,\"#f0f921\"]]}],\"heatmapgl\":[{\"type\":\"heatmapgl\",\"colorbar\":{\"outlinewidth\":0,\"ticks\":\"\"},\"colorscale\":[[0.0,\"#0d0887\"],[0.1111111111111111,\"#46039f\"],[0.2222222222222222,\"#7201a8\"],[0.3333333333333333,\"#9c179e\"],[0.4444444444444444,\"#bd3786\"],[0.5555555555555556,\"#d8576b\"],[0.6666666666666666,\"#ed7953\"],[0.7777777777777778,\"#fb9f3a\"],[0.8888888888888888,\"#fdca26\"],[1.0,\"#f0f921\"]]}],\"contourcarpet\":[{\"type\":\"contourcarpet\",\"colorbar\":{\"outlinewidth\":0,\"ticks\":\"\"}}],\"contour\":[{\"type\":\"contour\",\"colorbar\":{\"outlinewidth\":0,\"ticks\":\"\"},\"colorscale\":[[0.0,\"#0d0887\"],[0.1111111111111111,\"#46039f\"],[0.2222222222222222,\"#7201a8\"],[0.3333333333333333,\"#9c179e\"],[0.4444444444444444,\"#bd3786\"],[0.5555555555555556,\"#d8576b\"],[0.6666666666666666,\"#ed7953\"],[0.7777777777777778,\"#fb9f3a\"],[0.8888888888888888,\"#fdca26\"],[1.0,\"#f0f921\"]]}],\"surface\":[{\"type\":\"surface\",\"colorbar\":{\"outlinewidth\":0,\"ticks\":\"\"},\"colorscale\":[[0.0,\"#0d0887\"],[0.1111111111111111,\"#46039f\"],[0.2222222222222222,\"#7201a8\"],[0.3333333333333333,\"#9c179e\"],[0.4444444444444444,\"#bd3786\"],[0.5555555555555556,\"#d8576b\"],[0.6666666666666666,\"#ed7953\"],[0.7777777777777778,\"#fb9f3a\"],[0.8888888888888888,\"#fdca26\"],[1.0,\"#f0f921\"]]}],\"mesh3d\":[{\"type\":\"mesh3d\",\"colorbar\":{\"outlinewidth\":0,\"ticks\":\"\"}}],\"scatter\":[{\"fillpattern\":{\"fillmode\":\"overlay\",\"size\":10,\"solidity\":0.2},\"type\":\"scatter\"}],\"parcoords\":[{\"type\":\"parcoords\",\"line\":{\"colorbar\":{\"outlinewidth\":0,\"ticks\":\"\"}}}],\"scatterpolargl\":[{\"type\":\"scatterpolargl\",\"marker\":{\"colorbar\":{\"outlinewidth\":0,\"ticks\":\"\"}}}],\"bar\":[{\"error_x\":{\"color\":\"#2a3f5f\"},\"error_y\":{\"color\":\"#2a3f5f\"},\"marker\":{\"line\":{\"color\":\"#E5ECF6\",\"width\":0.5},\"pattern\":{\"fillmode\":\"overlay\",\"size\":10,\"solidity\":0.2}},\"type\":\"bar\"}],\"scattergeo\":[{\"type\":\"scattergeo\",\"marker\":{\"colorbar\":{\"outlinewidth\":0,\"ticks\":\"\"}}}],\"scatterpolar\":[{\"type\":\"scatterpolar\",\"marker\":{\"colorbar\":{\"outlinewidth\":0,\"ticks\":\"\"}}}],\"histogram\":[{\"marker\":{\"pattern\":{\"fillmode\":\"overlay\",\"size\":10,\"solidity\":0.2}},\"type\":\"histogram\"}],\"scattergl\":[{\"type\":\"scattergl\",\"marker\":{\"colorbar\":{\"outlinewidth\":0,\"ticks\":\"\"}}}],\"scatter3d\":[{\"type\":\"scatter3d\",\"line\":{\"colorbar\":{\"outlinewidth\":0,\"ticks\":\"\"}},\"marker\":{\"colorbar\":{\"outlinewidth\":0,\"ticks\":\"\"}}}],\"scattermapbox\":[{\"type\":\"scattermapbox\",\"marker\":{\"colorbar\":{\"outlinewidth\":0,\"ticks\":\"\"}}}],\"scatterternary\":[{\"type\":\"scatterternary\",\"marker\":{\"colorbar\":{\"outlinewidth\":0,\"ticks\":\"\"}}}],\"scattercarpet\":[{\"type\":\"scattercarpet\",\"marker\":{\"colorbar\":{\"outlinewidth\":0,\"ticks\":\"\"}}}],\"carpet\":[{\"aaxis\":{\"endlinecolor\":\"#2a3f5f\",\"gridcolor\":\"white\",\"linecolor\":\"white\",\"minorgridcolor\":\"white\",\"startlinecolor\":\"#2a3f5f\"},\"baxis\":{\"endlinecolor\":\"#2a3f5f\",\"gridcolor\":\"white\",\"linecolor\":\"white\",\"minorgridcolor\":\"white\",\"startlinecolor\":\"#2a3f5f\"},\"type\":\"carpet\"}],\"table\":[{\"cells\":{\"fill\":{\"color\":\"#EBF0F8\"},\"line\":{\"color\":\"white\"}},\"header\":{\"fill\":{\"color\":\"#C8D4E3\"},\"line\":{\"color\":\"white\"}},\"type\":\"table\"}],\"barpolar\":[{\"marker\":{\"line\":{\"color\":\"#E5ECF6\",\"width\":0.5},\"pattern\":{\"fillmode\":\"overlay\",\"size\":10,\"solidity\":0.2}},\"type\":\"barpolar\"}],\"pie\":[{\"automargin\":true,\"type\":\"pie\"}]},\"layout\":{\"autotypenumbers\":\"strict\",\"colorway\":[\"#636efa\",\"#EF553B\",\"#00cc96\",\"#ab63fa\",\"#FFA15A\",\"#19d3f3\",\"#FF6692\",\"#B6E880\",\"#FF97FF\",\"#FECB52\"],\"font\":{\"color\":\"#2a3f5f\"},\"hovermode\":\"closest\",\"hoverlabel\":{\"align\":\"left\"},\"paper_bgcolor\":\"white\",\"plot_bgcolor\":\"#E5ECF6\",\"polar\":{\"bgcolor\":\"#E5ECF6\",\"angularaxis\":{\"gridcolor\":\"white\",\"linecolor\":\"white\",\"ticks\":\"\"},\"radialaxis\":{\"gridcolor\":\"white\",\"linecolor\":\"white\",\"ticks\":\"\"}},\"ternary\":{\"bgcolor\":\"#E5ECF6\",\"aaxis\":{\"gridcolor\":\"white\",\"linecolor\":\"white\",\"ticks\":\"\"},\"baxis\":{\"gridcolor\":\"white\",\"linecolor\":\"white\",\"ticks\":\"\"},\"caxis\":{\"gridcolor\":\"white\",\"linecolor\":\"white\",\"ticks\":\"\"}},\"coloraxis\":{\"colorbar\":{\"outlinewidth\":0,\"ticks\":\"\"}},\"colorscale\":{\"sequential\":[[0.0,\"#0d0887\"],[0.1111111111111111,\"#46039f\"],[0.2222222222222222,\"#7201a8\"],[0.3333333333333333,\"#9c179e\"],[0.4444444444444444,\"#bd3786\"],[0.5555555555555556,\"#d8576b\"],[0.6666666666666666,\"#ed7953\"],[0.7777777777777778,\"#fb9f3a\"],[0.8888888888888888,\"#fdca26\"],[1.0,\"#f0f921\"]],\"sequentialminus\":[[0.0,\"#0d0887\"],[0.1111111111111111,\"#46039f\"],[0.2222222222222222,\"#7201a8\"],[0.3333333333333333,\"#9c179e\"],[0.4444444444444444,\"#bd3786\"],[0.5555555555555556,\"#d8576b\"],[0.6666666666666666,\"#ed7953\"],[0.7777777777777778,\"#fb9f3a\"],[0.8888888888888888,\"#fdca26\"],[1.0,\"#f0f921\"]],\"diverging\":[[0,\"#8e0152\"],[0.1,\"#c51b7d\"],[0.2,\"#de77ae\"],[0.3,\"#f1b6da\"],[0.4,\"#fde0ef\"],[0.5,\"#f7f7f7\"],[0.6,\"#e6f5d0\"],[0.7,\"#b8e186\"],[0.8,\"#7fbc41\"],[0.9,\"#4d9221\"],[1,\"#276419\"]]},\"xaxis\":{\"gridcolor\":\"white\",\"linecolor\":\"white\",\"ticks\":\"\",\"title\":{\"standoff\":15},\"zerolinecolor\":\"white\",\"automargin\":true,\"zerolinewidth\":2},\"yaxis\":{\"gridcolor\":\"white\",\"linecolor\":\"white\",\"ticks\":\"\",\"title\":{\"standoff\":15},\"zerolinecolor\":\"white\",\"automargin\":true,\"zerolinewidth\":2},\"scene\":{\"xaxis\":{\"backgroundcolor\":\"#E5ECF6\",\"gridcolor\":\"white\",\"linecolor\":\"white\",\"showbackground\":true,\"ticks\":\"\",\"zerolinecolor\":\"white\",\"gridwidth\":2},\"yaxis\":{\"backgroundcolor\":\"#E5ECF6\",\"gridcolor\":\"white\",\"linecolor\":\"white\",\"showbackground\":true,\"ticks\":\"\",\"zerolinecolor\":\"white\",\"gridwidth\":2},\"zaxis\":{\"backgroundcolor\":\"#E5ECF6\",\"gridcolor\":\"white\",\"linecolor\":\"white\",\"showbackground\":true,\"ticks\":\"\",\"zerolinecolor\":\"white\",\"gridwidth\":2}},\"shapedefaults\":{\"line\":{\"color\":\"#2a3f5f\"}},\"annotationdefaults\":{\"arrowcolor\":\"#2a3f5f\",\"arrowhead\":0,\"arrowwidth\":1},\"geo\":{\"bgcolor\":\"white\",\"landcolor\":\"#E5ECF6\",\"subunitcolor\":\"white\",\"showland\":true,\"showlakes\":true,\"lakecolor\":\"white\"},\"title\":{\"x\":0.05},\"mapbox\":{\"style\":\"light\"}}},\"legend\":{\"title\":{\"text\":\"Gamma:\"}}},                        {\"responsive\": true}                    ).then(function(){\n                            \nvar gd = document.getElementById('12a86116-db15-4055-ac3f-78c022a6a2d1');\nvar x = new MutationObserver(function (mutations, observer) {{\n        var display = window.getComputedStyle(gd).display;\n        if (!display || display === 'none') {{\n            console.log([gd, 'removed!']);\n            Plotly.purge(gd);\n            observer.disconnect();\n        }}\n}});\n\n// Listen for the removal of the full notebook cells\nvar notebookContainer = gd.closest('#notebook-container');\nif (notebookContainer) {{\n    x.observe(notebookContainer, {childList: true});\n}}\n\n// Listen for the clearing of the current output cell\nvar outputEl = gd.closest('.output');\nif (outputEl) {{\n    x.observe(outputEl, {childList: true});\n}}\n\n                        })                };                });            </script>        </div>"
     },
     "metadata": {},
     "output_type": "display_data"
    }
   ],
   "source": [
    "layout = go.Layout(\n",
    "    autosize=False,\n",
    "    width=800,\n",
    "    height=600,\n",
    "    xaxis=go.layout.XAxis(linecolor=\"black\", linewidth=1, mirror=True),\n",
    "    yaxis=go.layout.YAxis(linecolor=\"black\", linewidth=1, mirror=True),\n",
    "    margin=go.layout.Margin(l=50, r=50, b=100, t=100, pad=4),\n",
    "    title = \"Гарантируемая точность по зазору двойственности против числа итераций\",\n",
    "    xaxis_title=\"Количество итераций метода\",\n",
    "    yaxis_title=r'$log_{10}\\left( gap \\right)$'\n",
    ")\n",
    "\n",
    "fig = go.Figure(layout=layout)\n",
    "\n",
    "\n",
    "def plot_line_1(fig, gap, sec, iters, gamma_i):\n",
    "    fig.add_trace(go.Scatter(x=np.arange(1, iters+1), y=gap,\n",
    "                            mode='lines+markers',\n",
    "                            name=str(gamma_i),\n",
    "                            showlegend=True))\n",
    "    fig.update_layout(legend={\"title\":\"Gamma:\"})\n",
    "\n",
    "\n",
    "for gamma_i, dct in dict_gaps.items():\n",
    "    gap = np.array(dct['gap'])\n",
    "\n",
    "    sec = np.array(dct['sec'])\n",
    "    iters = dct['iters']\n",
    "    plot_line_1(fig, np.log10(gap), sec, iters, gamma_i)\n",
    "fig.show()"
   ],
   "metadata": {
    "collapsed": false,
    "ExecuteTime": {
     "end_time": "2024-06-03T16:09:50.566962Z",
     "start_time": "2024-06-03T16:09:49.927389Z"
    }
   },
   "id": "b1bccffdd54730d9",
   "execution_count": 119
  },
  {
   "cell_type": "code",
   "outputs": [
    {
     "data": {
      "application/vnd.plotly.v1+json": {
       "data": [
        {
         "mode": "lines+markers",
         "name": "5",
         "showlegend": true,
         "x": [
          0.0,
          0.028506755828857422,
          0.07557344436645508,
          0.11013007164001465,
          0.14015674591064453,
          0.17386651039123535,
          0.21889972686767578,
          0.2609224319458008,
          0.2919178009033203,
          0.33881092071533203,
          0.3856682777404785,
          0.43254518508911133,
          0.475538969039917,
          0.5392510890960693,
          0.586402177810669,
          0.6443395614624023,
          0.7130653858184814
         ],
         "y": [
          6.045746323682602,
          4.026816185373785,
          -1.2528823479989941,
          -1.3158490000629683,
          -1.5610965887580806,
          -2.029642200716323,
          -2.6291595676709294,
          -3.2984134585526763,
          -3.9912304268194636,
          -4.6889752321764115,
          -5.3876982653788374,
          -6.086573377539748,
          -6.785792228630477,
          -7.484222281496327,
          -8.180263205859154,
          -8.886471619119092,
          -9.668287823589141
         ],
         "type": "scatter"
        },
        {
         "mode": "lines+markers",
         "name": "10",
         "showlegend": true,
         "x": [
          0.0,
          0.04617714881896973,
          0.12464666366577148,
          0.15576791763305664,
          0.2235417366027832,
          0.2852358818054199,
          0.330488920211792,
          0.36987733840942383,
          0.416032075881958,
          0.46440887451171875,
          0.5012657642364502,
          0.6341867446899414
         ],
         "y": [
          6.045746323682602,
          4.026816185373785,
          -1.2684399337163608,
          -1.5122471756389095,
          -2.194682919586316,
          -3.1089236600814805,
          -4.098105362344363,
          -5.0970269958370835,
          -6.096934355954944,
          -7.097033119851829,
          -8.097507499453231,
          -9.098695720391166
         ],
         "type": "scatter"
        },
        {
         "mode": "lines+markers",
         "name": "25",
         "showlegend": true,
         "x": [
          0.0,
          0.03228926658630371,
          0.08112621307373047,
          0.13214111328125,
          0.1824023723602295,
          0.21745586395263672,
          0.24864554405212402,
          0.2860596179962158,
          0.44105100631713867,
          0.48381543159484863
         ],
         "y": [
          6.045746323682602,
          4.026816185373785,
          -1.3158489761622563,
          -2.0296422034228145,
          -3.298413508807522,
          -4.68897500057519,
          -6.086598448660085,
          -7.484511457724015,
          -8.88043126469812,
          -10.208690913853012
         ],
         "type": "scatter"
        },
        {
         "mode": "lines+markers",
         "name": "50",
         "showlegend": true,
         "x": [
          0.0,
          0.03345990180969238,
          0.07715773582458496,
          0.13090181350708008,
          0.18459463119506836,
          0.21182918548583984,
          0.23627161979675293,
          0.26523709297180176
         ],
         "y": [
          6.045746323682602,
          4.026816185373785,
          -1.3908335089088932,
          -2.540738008624469,
          -4.194775789994272,
          -5.892803263766001,
          -7.591690572732112,
          -9.3152881942642
         ],
         "type": "scatter"
        },
        {
         "mode": "lines+markers",
         "name": "100",
         "showlegend": true,
         "x": [
          0.0,
          0.03197836875915527,
          0.06926369667053223,
          0.12092733383178711,
          0.16875076293945312,
          0.19088029861450195,
          0.20479702949523926
         ],
         "y": [
          6.045746323682602,
          4.026816185373785,
          -1.5122424705117385,
          -3.1089236702331657,
          -5.097025415460199,
          -7.097072631700276,
          -9.114857379933593
         ],
         "type": "scatter"
        },
        {
         "mode": "lines+markers",
         "name": "250",
         "showlegend": true,
         "x": [
          0.0,
          0.032273054122924805,
          0.07364988327026367,
          0.13313722610473633,
          0.17412662506103516,
          0.19606757164001465,
          0.21828126907348633
         ],
         "y": [
          6.045746323682602,
          4.026816185373785,
          -1.7403703777517654,
          -3.8947036900193854,
          -6.2907346318866075,
          -8.692505636293706,
          -10.138109839567305
         ],
         "type": "scatter"
        },
        {
         "mode": "lines+markers",
         "name": "500",
         "showlegend": true,
         "x": [
          0.0,
          0.026295900344848633,
          0.06225013732910156,
          0.10869669914245605,
          0.13970088958740234,
          0.1727752685546875
         ],
         "y": [
          6.045746323682602,
          4.026816185373785,
          -1.954817126254459,
          -4.495327431227515,
          -7.193577818575323,
          -9.56990811550031
         ],
         "type": "scatter"
        },
        {
         "mode": "lines+markers",
         "name": "1000",
         "showlegend": true,
         "x": [
          0.0,
          0.022754192352294922,
          0.055275678634643555,
          0.10122966766357422,
          0.13927364349365234,
          0.17156744003295898
         ],
         "y": [
          6.045746323682602,
          4.026816185373785,
          -2.194682829052998,
          -5.0970250203668765,
          -8.099688393924845,
          -10.208690913853012
         ],
         "type": "scatter"
        }
       ],
       "layout": {
        "autosize": false,
        "height": 600,
        "margin": {
         "b": 100,
         "l": 50,
         "pad": 4,
         "r": 50,
         "t": 100
        },
        "title": {
         "text": "Гарантируемая точность по зазору двойственности против времени работы"
        },
        "width": 800,
        "xaxis": {
         "linecolor": "black",
         "linewidth": 1,
         "mirror": true,
         "title": {
          "text": "Время, сек"
         }
        },
        "yaxis": {
         "linecolor": "black",
         "linewidth": 1,
         "mirror": true,
         "title": {
          "text": "$log_{10}\\left( gap \\right)$"
         }
        },
        "template": {
         "data": {
          "histogram2dcontour": [
           {
            "type": "histogram2dcontour",
            "colorbar": {
             "outlinewidth": 0,
             "ticks": ""
            },
            "colorscale": [
             [
              0.0,
              "#0d0887"
             ],
             [
              0.1111111111111111,
              "#46039f"
             ],
             [
              0.2222222222222222,
              "#7201a8"
             ],
             [
              0.3333333333333333,
              "#9c179e"
             ],
             [
              0.4444444444444444,
              "#bd3786"
             ],
             [
              0.5555555555555556,
              "#d8576b"
             ],
             [
              0.6666666666666666,
              "#ed7953"
             ],
             [
              0.7777777777777778,
              "#fb9f3a"
             ],
             [
              0.8888888888888888,
              "#fdca26"
             ],
             [
              1.0,
              "#f0f921"
             ]
            ]
           }
          ],
          "choropleth": [
           {
            "type": "choropleth",
            "colorbar": {
             "outlinewidth": 0,
             "ticks": ""
            }
           }
          ],
          "histogram2d": [
           {
            "type": "histogram2d",
            "colorbar": {
             "outlinewidth": 0,
             "ticks": ""
            },
            "colorscale": [
             [
              0.0,
              "#0d0887"
             ],
             [
              0.1111111111111111,
              "#46039f"
             ],
             [
              0.2222222222222222,
              "#7201a8"
             ],
             [
              0.3333333333333333,
              "#9c179e"
             ],
             [
              0.4444444444444444,
              "#bd3786"
             ],
             [
              0.5555555555555556,
              "#d8576b"
             ],
             [
              0.6666666666666666,
              "#ed7953"
             ],
             [
              0.7777777777777778,
              "#fb9f3a"
             ],
             [
              0.8888888888888888,
              "#fdca26"
             ],
             [
              1.0,
              "#f0f921"
             ]
            ]
           }
          ],
          "heatmap": [
           {
            "type": "heatmap",
            "colorbar": {
             "outlinewidth": 0,
             "ticks": ""
            },
            "colorscale": [
             [
              0.0,
              "#0d0887"
             ],
             [
              0.1111111111111111,
              "#46039f"
             ],
             [
              0.2222222222222222,
              "#7201a8"
             ],
             [
              0.3333333333333333,
              "#9c179e"
             ],
             [
              0.4444444444444444,
              "#bd3786"
             ],
             [
              0.5555555555555556,
              "#d8576b"
             ],
             [
              0.6666666666666666,
              "#ed7953"
             ],
             [
              0.7777777777777778,
              "#fb9f3a"
             ],
             [
              0.8888888888888888,
              "#fdca26"
             ],
             [
              1.0,
              "#f0f921"
             ]
            ]
           }
          ],
          "heatmapgl": [
           {
            "type": "heatmapgl",
            "colorbar": {
             "outlinewidth": 0,
             "ticks": ""
            },
            "colorscale": [
             [
              0.0,
              "#0d0887"
             ],
             [
              0.1111111111111111,
              "#46039f"
             ],
             [
              0.2222222222222222,
              "#7201a8"
             ],
             [
              0.3333333333333333,
              "#9c179e"
             ],
             [
              0.4444444444444444,
              "#bd3786"
             ],
             [
              0.5555555555555556,
              "#d8576b"
             ],
             [
              0.6666666666666666,
              "#ed7953"
             ],
             [
              0.7777777777777778,
              "#fb9f3a"
             ],
             [
              0.8888888888888888,
              "#fdca26"
             ],
             [
              1.0,
              "#f0f921"
             ]
            ]
           }
          ],
          "contourcarpet": [
           {
            "type": "contourcarpet",
            "colorbar": {
             "outlinewidth": 0,
             "ticks": ""
            }
           }
          ],
          "contour": [
           {
            "type": "contour",
            "colorbar": {
             "outlinewidth": 0,
             "ticks": ""
            },
            "colorscale": [
             [
              0.0,
              "#0d0887"
             ],
             [
              0.1111111111111111,
              "#46039f"
             ],
             [
              0.2222222222222222,
              "#7201a8"
             ],
             [
              0.3333333333333333,
              "#9c179e"
             ],
             [
              0.4444444444444444,
              "#bd3786"
             ],
             [
              0.5555555555555556,
              "#d8576b"
             ],
             [
              0.6666666666666666,
              "#ed7953"
             ],
             [
              0.7777777777777778,
              "#fb9f3a"
             ],
             [
              0.8888888888888888,
              "#fdca26"
             ],
             [
              1.0,
              "#f0f921"
             ]
            ]
           }
          ],
          "surface": [
           {
            "type": "surface",
            "colorbar": {
             "outlinewidth": 0,
             "ticks": ""
            },
            "colorscale": [
             [
              0.0,
              "#0d0887"
             ],
             [
              0.1111111111111111,
              "#46039f"
             ],
             [
              0.2222222222222222,
              "#7201a8"
             ],
             [
              0.3333333333333333,
              "#9c179e"
             ],
             [
              0.4444444444444444,
              "#bd3786"
             ],
             [
              0.5555555555555556,
              "#d8576b"
             ],
             [
              0.6666666666666666,
              "#ed7953"
             ],
             [
              0.7777777777777778,
              "#fb9f3a"
             ],
             [
              0.8888888888888888,
              "#fdca26"
             ],
             [
              1.0,
              "#f0f921"
             ]
            ]
           }
          ],
          "mesh3d": [
           {
            "type": "mesh3d",
            "colorbar": {
             "outlinewidth": 0,
             "ticks": ""
            }
           }
          ],
          "scatter": [
           {
            "fillpattern": {
             "fillmode": "overlay",
             "size": 10,
             "solidity": 0.2
            },
            "type": "scatter"
           }
          ],
          "parcoords": [
           {
            "type": "parcoords",
            "line": {
             "colorbar": {
              "outlinewidth": 0,
              "ticks": ""
             }
            }
           }
          ],
          "scatterpolargl": [
           {
            "type": "scatterpolargl",
            "marker": {
             "colorbar": {
              "outlinewidth": 0,
              "ticks": ""
             }
            }
           }
          ],
          "bar": [
           {
            "error_x": {
             "color": "#2a3f5f"
            },
            "error_y": {
             "color": "#2a3f5f"
            },
            "marker": {
             "line": {
              "color": "#E5ECF6",
              "width": 0.5
             },
             "pattern": {
              "fillmode": "overlay",
              "size": 10,
              "solidity": 0.2
             }
            },
            "type": "bar"
           }
          ],
          "scattergeo": [
           {
            "type": "scattergeo",
            "marker": {
             "colorbar": {
              "outlinewidth": 0,
              "ticks": ""
             }
            }
           }
          ],
          "scatterpolar": [
           {
            "type": "scatterpolar",
            "marker": {
             "colorbar": {
              "outlinewidth": 0,
              "ticks": ""
             }
            }
           }
          ],
          "histogram": [
           {
            "marker": {
             "pattern": {
              "fillmode": "overlay",
              "size": 10,
              "solidity": 0.2
             }
            },
            "type": "histogram"
           }
          ],
          "scattergl": [
           {
            "type": "scattergl",
            "marker": {
             "colorbar": {
              "outlinewidth": 0,
              "ticks": ""
             }
            }
           }
          ],
          "scatter3d": [
           {
            "type": "scatter3d",
            "line": {
             "colorbar": {
              "outlinewidth": 0,
              "ticks": ""
             }
            },
            "marker": {
             "colorbar": {
              "outlinewidth": 0,
              "ticks": ""
             }
            }
           }
          ],
          "scattermapbox": [
           {
            "type": "scattermapbox",
            "marker": {
             "colorbar": {
              "outlinewidth": 0,
              "ticks": ""
             }
            }
           }
          ],
          "scatterternary": [
           {
            "type": "scatterternary",
            "marker": {
             "colorbar": {
              "outlinewidth": 0,
              "ticks": ""
             }
            }
           }
          ],
          "scattercarpet": [
           {
            "type": "scattercarpet",
            "marker": {
             "colorbar": {
              "outlinewidth": 0,
              "ticks": ""
             }
            }
           }
          ],
          "carpet": [
           {
            "aaxis": {
             "endlinecolor": "#2a3f5f",
             "gridcolor": "white",
             "linecolor": "white",
             "minorgridcolor": "white",
             "startlinecolor": "#2a3f5f"
            },
            "baxis": {
             "endlinecolor": "#2a3f5f",
             "gridcolor": "white",
             "linecolor": "white",
             "minorgridcolor": "white",
             "startlinecolor": "#2a3f5f"
            },
            "type": "carpet"
           }
          ],
          "table": [
           {
            "cells": {
             "fill": {
              "color": "#EBF0F8"
             },
             "line": {
              "color": "white"
             }
            },
            "header": {
             "fill": {
              "color": "#C8D4E3"
             },
             "line": {
              "color": "white"
             }
            },
            "type": "table"
           }
          ],
          "barpolar": [
           {
            "marker": {
             "line": {
              "color": "#E5ECF6",
              "width": 0.5
             },
             "pattern": {
              "fillmode": "overlay",
              "size": 10,
              "solidity": 0.2
             }
            },
            "type": "barpolar"
           }
          ],
          "pie": [
           {
            "automargin": true,
            "type": "pie"
           }
          ]
         },
         "layout": {
          "autotypenumbers": "strict",
          "colorway": [
           "#636efa",
           "#EF553B",
           "#00cc96",
           "#ab63fa",
           "#FFA15A",
           "#19d3f3",
           "#FF6692",
           "#B6E880",
           "#FF97FF",
           "#FECB52"
          ],
          "font": {
           "color": "#2a3f5f"
          },
          "hovermode": "closest",
          "hoverlabel": {
           "align": "left"
          },
          "paper_bgcolor": "white",
          "plot_bgcolor": "#E5ECF6",
          "polar": {
           "bgcolor": "#E5ECF6",
           "angularaxis": {
            "gridcolor": "white",
            "linecolor": "white",
            "ticks": ""
           },
           "radialaxis": {
            "gridcolor": "white",
            "linecolor": "white",
            "ticks": ""
           }
          },
          "ternary": {
           "bgcolor": "#E5ECF6",
           "aaxis": {
            "gridcolor": "white",
            "linecolor": "white",
            "ticks": ""
           },
           "baxis": {
            "gridcolor": "white",
            "linecolor": "white",
            "ticks": ""
           },
           "caxis": {
            "gridcolor": "white",
            "linecolor": "white",
            "ticks": ""
           }
          },
          "coloraxis": {
           "colorbar": {
            "outlinewidth": 0,
            "ticks": ""
           }
          },
          "colorscale": {
           "sequential": [
            [
             0.0,
             "#0d0887"
            ],
            [
             0.1111111111111111,
             "#46039f"
            ],
            [
             0.2222222222222222,
             "#7201a8"
            ],
            [
             0.3333333333333333,
             "#9c179e"
            ],
            [
             0.4444444444444444,
             "#bd3786"
            ],
            [
             0.5555555555555556,
             "#d8576b"
            ],
            [
             0.6666666666666666,
             "#ed7953"
            ],
            [
             0.7777777777777778,
             "#fb9f3a"
            ],
            [
             0.8888888888888888,
             "#fdca26"
            ],
            [
             1.0,
             "#f0f921"
            ]
           ],
           "sequentialminus": [
            [
             0.0,
             "#0d0887"
            ],
            [
             0.1111111111111111,
             "#46039f"
            ],
            [
             0.2222222222222222,
             "#7201a8"
            ],
            [
             0.3333333333333333,
             "#9c179e"
            ],
            [
             0.4444444444444444,
             "#bd3786"
            ],
            [
             0.5555555555555556,
             "#d8576b"
            ],
            [
             0.6666666666666666,
             "#ed7953"
            ],
            [
             0.7777777777777778,
             "#fb9f3a"
            ],
            [
             0.8888888888888888,
             "#fdca26"
            ],
            [
             1.0,
             "#f0f921"
            ]
           ],
           "diverging": [
            [
             0,
             "#8e0152"
            ],
            [
             0.1,
             "#c51b7d"
            ],
            [
             0.2,
             "#de77ae"
            ],
            [
             0.3,
             "#f1b6da"
            ],
            [
             0.4,
             "#fde0ef"
            ],
            [
             0.5,
             "#f7f7f7"
            ],
            [
             0.6,
             "#e6f5d0"
            ],
            [
             0.7,
             "#b8e186"
            ],
            [
             0.8,
             "#7fbc41"
            ],
            [
             0.9,
             "#4d9221"
            ],
            [
             1,
             "#276419"
            ]
           ]
          },
          "xaxis": {
           "gridcolor": "white",
           "linecolor": "white",
           "ticks": "",
           "title": {
            "standoff": 15
           },
           "zerolinecolor": "white",
           "automargin": true,
           "zerolinewidth": 2
          },
          "yaxis": {
           "gridcolor": "white",
           "linecolor": "white",
           "ticks": "",
           "title": {
            "standoff": 15
           },
           "zerolinecolor": "white",
           "automargin": true,
           "zerolinewidth": 2
          },
          "scene": {
           "xaxis": {
            "backgroundcolor": "#E5ECF6",
            "gridcolor": "white",
            "linecolor": "white",
            "showbackground": true,
            "ticks": "",
            "zerolinecolor": "white",
            "gridwidth": 2
           },
           "yaxis": {
            "backgroundcolor": "#E5ECF6",
            "gridcolor": "white",
            "linecolor": "white",
            "showbackground": true,
            "ticks": "",
            "zerolinecolor": "white",
            "gridwidth": 2
           },
           "zaxis": {
            "backgroundcolor": "#E5ECF6",
            "gridcolor": "white",
            "linecolor": "white",
            "showbackground": true,
            "ticks": "",
            "zerolinecolor": "white",
            "gridwidth": 2
           }
          },
          "shapedefaults": {
           "line": {
            "color": "#2a3f5f"
           }
          },
          "annotationdefaults": {
           "arrowcolor": "#2a3f5f",
           "arrowhead": 0,
           "arrowwidth": 1
          },
          "geo": {
           "bgcolor": "white",
           "landcolor": "#E5ECF6",
           "subunitcolor": "white",
           "showland": true,
           "showlakes": true,
           "lakecolor": "white"
          },
          "title": {
           "x": 0.05
          },
          "mapbox": {
           "style": "light"
          }
         }
        },
        "legend": {
         "title": {
          "text": "Gamma:"
         }
        }
       },
       "config": {
        "plotlyServerURL": "https://plot.ly"
       }
      },
      "text/html": "<div>                            <div id=\"d7d5814f-467d-4918-95a0-c9b793b910ed\" class=\"plotly-graph-div\" style=\"height:600px; width:800px;\"></div>            <script type=\"text/javascript\">                require([\"plotly\"], function(Plotly) {                    window.PLOTLYENV=window.PLOTLYENV || {};                                    if (document.getElementById(\"d7d5814f-467d-4918-95a0-c9b793b910ed\")) {                    Plotly.newPlot(                        \"d7d5814f-467d-4918-95a0-c9b793b910ed\",                        [{\"mode\":\"lines+markers\",\"name\":\"5\",\"showlegend\":true,\"x\":[0.0,0.028506755828857422,0.07557344436645508,0.11013007164001465,0.14015674591064453,0.17386651039123535,0.21889972686767578,0.2609224319458008,0.2919178009033203,0.33881092071533203,0.3856682777404785,0.43254518508911133,0.475538969039917,0.5392510890960693,0.586402177810669,0.6443395614624023,0.7130653858184814],\"y\":[6.045746323682602,4.026816185373785,-1.2528823479989941,-1.3158490000629683,-1.5610965887580806,-2.029642200716323,-2.6291595676709294,-3.2984134585526763,-3.9912304268194636,-4.6889752321764115,-5.3876982653788374,-6.086573377539748,-6.785792228630477,-7.484222281496327,-8.180263205859154,-8.886471619119092,-9.668287823589141],\"type\":\"scatter\"},{\"mode\":\"lines+markers\",\"name\":\"10\",\"showlegend\":true,\"x\":[0.0,0.04617714881896973,0.12464666366577148,0.15576791763305664,0.2235417366027832,0.2852358818054199,0.330488920211792,0.36987733840942383,0.416032075881958,0.46440887451171875,0.5012657642364502,0.6341867446899414],\"y\":[6.045746323682602,4.026816185373785,-1.2684399337163608,-1.5122471756389095,-2.194682919586316,-3.1089236600814805,-4.098105362344363,-5.0970269958370835,-6.096934355954944,-7.097033119851829,-8.097507499453231,-9.098695720391166],\"type\":\"scatter\"},{\"mode\":\"lines+markers\",\"name\":\"25\",\"showlegend\":true,\"x\":[0.0,0.03228926658630371,0.08112621307373047,0.13214111328125,0.1824023723602295,0.21745586395263672,0.24864554405212402,0.2860596179962158,0.44105100631713867,0.48381543159484863],\"y\":[6.045746323682602,4.026816185373785,-1.3158489761622563,-2.0296422034228145,-3.298413508807522,-4.68897500057519,-6.086598448660085,-7.484511457724015,-8.88043126469812,-10.208690913853012],\"type\":\"scatter\"},{\"mode\":\"lines+markers\",\"name\":\"50\",\"showlegend\":true,\"x\":[0.0,0.03345990180969238,0.07715773582458496,0.13090181350708008,0.18459463119506836,0.21182918548583984,0.23627161979675293,0.26523709297180176],\"y\":[6.045746323682602,4.026816185373785,-1.3908335089088932,-2.540738008624469,-4.194775789994272,-5.892803263766001,-7.591690572732112,-9.3152881942642],\"type\":\"scatter\"},{\"mode\":\"lines+markers\",\"name\":\"100\",\"showlegend\":true,\"x\":[0.0,0.03197836875915527,0.06926369667053223,0.12092733383178711,0.16875076293945312,0.19088029861450195,0.20479702949523926],\"y\":[6.045746323682602,4.026816185373785,-1.5122424705117385,-3.1089236702331657,-5.097025415460199,-7.097072631700276,-9.114857379933593],\"type\":\"scatter\"},{\"mode\":\"lines+markers\",\"name\":\"250\",\"showlegend\":true,\"x\":[0.0,0.032273054122924805,0.07364988327026367,0.13313722610473633,0.17412662506103516,0.19606757164001465,0.21828126907348633],\"y\":[6.045746323682602,4.026816185373785,-1.7403703777517654,-3.8947036900193854,-6.2907346318866075,-8.692505636293706,-10.138109839567305],\"type\":\"scatter\"},{\"mode\":\"lines+markers\",\"name\":\"500\",\"showlegend\":true,\"x\":[0.0,0.026295900344848633,0.06225013732910156,0.10869669914245605,0.13970088958740234,0.1727752685546875],\"y\":[6.045746323682602,4.026816185373785,-1.954817126254459,-4.495327431227515,-7.193577818575323,-9.56990811550031],\"type\":\"scatter\"},{\"mode\":\"lines+markers\",\"name\":\"1000\",\"showlegend\":true,\"x\":[0.0,0.022754192352294922,0.055275678634643555,0.10122966766357422,0.13927364349365234,0.17156744003295898],\"y\":[6.045746323682602,4.026816185373785,-2.194682829052998,-5.0970250203668765,-8.099688393924845,-10.208690913853012],\"type\":\"scatter\"}],                        {\"autosize\":false,\"height\":600,\"margin\":{\"b\":100,\"l\":50,\"pad\":4,\"r\":50,\"t\":100},\"title\":{\"text\":\"\\u0413\\u0430\\u0440\\u0430\\u043d\\u0442\\u0438\\u0440\\u0443\\u0435\\u043c\\u0430\\u044f \\u0442\\u043e\\u0447\\u043d\\u043e\\u0441\\u0442\\u044c \\u043f\\u043e \\u0437\\u0430\\u0437\\u043e\\u0440\\u0443 \\u0434\\u0432\\u043e\\u0439\\u0441\\u0442\\u0432\\u0435\\u043d\\u043d\\u043e\\u0441\\u0442\\u0438 \\u043f\\u0440\\u043e\\u0442\\u0438\\u0432 \\u0432\\u0440\\u0435\\u043c\\u0435\\u043d\\u0438 \\u0440\\u0430\\u0431\\u043e\\u0442\\u044b\"},\"width\":800,\"xaxis\":{\"linecolor\":\"black\",\"linewidth\":1,\"mirror\":true,\"title\":{\"text\":\"\\u0412\\u0440\\u0435\\u043c\\u044f, \\u0441\\u0435\\u043a\"}},\"yaxis\":{\"linecolor\":\"black\",\"linewidth\":1,\"mirror\":true,\"title\":{\"text\":\"$log_{10}\\\\left( gap \\\\right)$\"}},\"template\":{\"data\":{\"histogram2dcontour\":[{\"type\":\"histogram2dcontour\",\"colorbar\":{\"outlinewidth\":0,\"ticks\":\"\"},\"colorscale\":[[0.0,\"#0d0887\"],[0.1111111111111111,\"#46039f\"],[0.2222222222222222,\"#7201a8\"],[0.3333333333333333,\"#9c179e\"],[0.4444444444444444,\"#bd3786\"],[0.5555555555555556,\"#d8576b\"],[0.6666666666666666,\"#ed7953\"],[0.7777777777777778,\"#fb9f3a\"],[0.8888888888888888,\"#fdca26\"],[1.0,\"#f0f921\"]]}],\"choropleth\":[{\"type\":\"choropleth\",\"colorbar\":{\"outlinewidth\":0,\"ticks\":\"\"}}],\"histogram2d\":[{\"type\":\"histogram2d\",\"colorbar\":{\"outlinewidth\":0,\"ticks\":\"\"},\"colorscale\":[[0.0,\"#0d0887\"],[0.1111111111111111,\"#46039f\"],[0.2222222222222222,\"#7201a8\"],[0.3333333333333333,\"#9c179e\"],[0.4444444444444444,\"#bd3786\"],[0.5555555555555556,\"#d8576b\"],[0.6666666666666666,\"#ed7953\"],[0.7777777777777778,\"#fb9f3a\"],[0.8888888888888888,\"#fdca26\"],[1.0,\"#f0f921\"]]}],\"heatmap\":[{\"type\":\"heatmap\",\"colorbar\":{\"outlinewidth\":0,\"ticks\":\"\"},\"colorscale\":[[0.0,\"#0d0887\"],[0.1111111111111111,\"#46039f\"],[0.2222222222222222,\"#7201a8\"],[0.3333333333333333,\"#9c179e\"],[0.4444444444444444,\"#bd3786\"],[0.5555555555555556,\"#d8576b\"],[0.6666666666666666,\"#ed7953\"],[0.7777777777777778,\"#fb9f3a\"],[0.8888888888888888,\"#fdca26\"],[1.0,\"#f0f921\"]]}],\"heatmapgl\":[{\"type\":\"heatmapgl\",\"colorbar\":{\"outlinewidth\":0,\"ticks\":\"\"},\"colorscale\":[[0.0,\"#0d0887\"],[0.1111111111111111,\"#46039f\"],[0.2222222222222222,\"#7201a8\"],[0.3333333333333333,\"#9c179e\"],[0.4444444444444444,\"#bd3786\"],[0.5555555555555556,\"#d8576b\"],[0.6666666666666666,\"#ed7953\"],[0.7777777777777778,\"#fb9f3a\"],[0.8888888888888888,\"#fdca26\"],[1.0,\"#f0f921\"]]}],\"contourcarpet\":[{\"type\":\"contourcarpet\",\"colorbar\":{\"outlinewidth\":0,\"ticks\":\"\"}}],\"contour\":[{\"type\":\"contour\",\"colorbar\":{\"outlinewidth\":0,\"ticks\":\"\"},\"colorscale\":[[0.0,\"#0d0887\"],[0.1111111111111111,\"#46039f\"],[0.2222222222222222,\"#7201a8\"],[0.3333333333333333,\"#9c179e\"],[0.4444444444444444,\"#bd3786\"],[0.5555555555555556,\"#d8576b\"],[0.6666666666666666,\"#ed7953\"],[0.7777777777777778,\"#fb9f3a\"],[0.8888888888888888,\"#fdca26\"],[1.0,\"#f0f921\"]]}],\"surface\":[{\"type\":\"surface\",\"colorbar\":{\"outlinewidth\":0,\"ticks\":\"\"},\"colorscale\":[[0.0,\"#0d0887\"],[0.1111111111111111,\"#46039f\"],[0.2222222222222222,\"#7201a8\"],[0.3333333333333333,\"#9c179e\"],[0.4444444444444444,\"#bd3786\"],[0.5555555555555556,\"#d8576b\"],[0.6666666666666666,\"#ed7953\"],[0.7777777777777778,\"#fb9f3a\"],[0.8888888888888888,\"#fdca26\"],[1.0,\"#f0f921\"]]}],\"mesh3d\":[{\"type\":\"mesh3d\",\"colorbar\":{\"outlinewidth\":0,\"ticks\":\"\"}}],\"scatter\":[{\"fillpattern\":{\"fillmode\":\"overlay\",\"size\":10,\"solidity\":0.2},\"type\":\"scatter\"}],\"parcoords\":[{\"type\":\"parcoords\",\"line\":{\"colorbar\":{\"outlinewidth\":0,\"ticks\":\"\"}}}],\"scatterpolargl\":[{\"type\":\"scatterpolargl\",\"marker\":{\"colorbar\":{\"outlinewidth\":0,\"ticks\":\"\"}}}],\"bar\":[{\"error_x\":{\"color\":\"#2a3f5f\"},\"error_y\":{\"color\":\"#2a3f5f\"},\"marker\":{\"line\":{\"color\":\"#E5ECF6\",\"width\":0.5},\"pattern\":{\"fillmode\":\"overlay\",\"size\":10,\"solidity\":0.2}},\"type\":\"bar\"}],\"scattergeo\":[{\"type\":\"scattergeo\",\"marker\":{\"colorbar\":{\"outlinewidth\":0,\"ticks\":\"\"}}}],\"scatterpolar\":[{\"type\":\"scatterpolar\",\"marker\":{\"colorbar\":{\"outlinewidth\":0,\"ticks\":\"\"}}}],\"histogram\":[{\"marker\":{\"pattern\":{\"fillmode\":\"overlay\",\"size\":10,\"solidity\":0.2}},\"type\":\"histogram\"}],\"scattergl\":[{\"type\":\"scattergl\",\"marker\":{\"colorbar\":{\"outlinewidth\":0,\"ticks\":\"\"}}}],\"scatter3d\":[{\"type\":\"scatter3d\",\"line\":{\"colorbar\":{\"outlinewidth\":0,\"ticks\":\"\"}},\"marker\":{\"colorbar\":{\"outlinewidth\":0,\"ticks\":\"\"}}}],\"scattermapbox\":[{\"type\":\"scattermapbox\",\"marker\":{\"colorbar\":{\"outlinewidth\":0,\"ticks\":\"\"}}}],\"scatterternary\":[{\"type\":\"scatterternary\",\"marker\":{\"colorbar\":{\"outlinewidth\":0,\"ticks\":\"\"}}}],\"scattercarpet\":[{\"type\":\"scattercarpet\",\"marker\":{\"colorbar\":{\"outlinewidth\":0,\"ticks\":\"\"}}}],\"carpet\":[{\"aaxis\":{\"endlinecolor\":\"#2a3f5f\",\"gridcolor\":\"white\",\"linecolor\":\"white\",\"minorgridcolor\":\"white\",\"startlinecolor\":\"#2a3f5f\"},\"baxis\":{\"endlinecolor\":\"#2a3f5f\",\"gridcolor\":\"white\",\"linecolor\":\"white\",\"minorgridcolor\":\"white\",\"startlinecolor\":\"#2a3f5f\"},\"type\":\"carpet\"}],\"table\":[{\"cells\":{\"fill\":{\"color\":\"#EBF0F8\"},\"line\":{\"color\":\"white\"}},\"header\":{\"fill\":{\"color\":\"#C8D4E3\"},\"line\":{\"color\":\"white\"}},\"type\":\"table\"}],\"barpolar\":[{\"marker\":{\"line\":{\"color\":\"#E5ECF6\",\"width\":0.5},\"pattern\":{\"fillmode\":\"overlay\",\"size\":10,\"solidity\":0.2}},\"type\":\"barpolar\"}],\"pie\":[{\"automargin\":true,\"type\":\"pie\"}]},\"layout\":{\"autotypenumbers\":\"strict\",\"colorway\":[\"#636efa\",\"#EF553B\",\"#00cc96\",\"#ab63fa\",\"#FFA15A\",\"#19d3f3\",\"#FF6692\",\"#B6E880\",\"#FF97FF\",\"#FECB52\"],\"font\":{\"color\":\"#2a3f5f\"},\"hovermode\":\"closest\",\"hoverlabel\":{\"align\":\"left\"},\"paper_bgcolor\":\"white\",\"plot_bgcolor\":\"#E5ECF6\",\"polar\":{\"bgcolor\":\"#E5ECF6\",\"angularaxis\":{\"gridcolor\":\"white\",\"linecolor\":\"white\",\"ticks\":\"\"},\"radialaxis\":{\"gridcolor\":\"white\",\"linecolor\":\"white\",\"ticks\":\"\"}},\"ternary\":{\"bgcolor\":\"#E5ECF6\",\"aaxis\":{\"gridcolor\":\"white\",\"linecolor\":\"white\",\"ticks\":\"\"},\"baxis\":{\"gridcolor\":\"white\",\"linecolor\":\"white\",\"ticks\":\"\"},\"caxis\":{\"gridcolor\":\"white\",\"linecolor\":\"white\",\"ticks\":\"\"}},\"coloraxis\":{\"colorbar\":{\"outlinewidth\":0,\"ticks\":\"\"}},\"colorscale\":{\"sequential\":[[0.0,\"#0d0887\"],[0.1111111111111111,\"#46039f\"],[0.2222222222222222,\"#7201a8\"],[0.3333333333333333,\"#9c179e\"],[0.4444444444444444,\"#bd3786\"],[0.5555555555555556,\"#d8576b\"],[0.6666666666666666,\"#ed7953\"],[0.7777777777777778,\"#fb9f3a\"],[0.8888888888888888,\"#fdca26\"],[1.0,\"#f0f921\"]],\"sequentialminus\":[[0.0,\"#0d0887\"],[0.1111111111111111,\"#46039f\"],[0.2222222222222222,\"#7201a8\"],[0.3333333333333333,\"#9c179e\"],[0.4444444444444444,\"#bd3786\"],[0.5555555555555556,\"#d8576b\"],[0.6666666666666666,\"#ed7953\"],[0.7777777777777778,\"#fb9f3a\"],[0.8888888888888888,\"#fdca26\"],[1.0,\"#f0f921\"]],\"diverging\":[[0,\"#8e0152\"],[0.1,\"#c51b7d\"],[0.2,\"#de77ae\"],[0.3,\"#f1b6da\"],[0.4,\"#fde0ef\"],[0.5,\"#f7f7f7\"],[0.6,\"#e6f5d0\"],[0.7,\"#b8e186\"],[0.8,\"#7fbc41\"],[0.9,\"#4d9221\"],[1,\"#276419\"]]},\"xaxis\":{\"gridcolor\":\"white\",\"linecolor\":\"white\",\"ticks\":\"\",\"title\":{\"standoff\":15},\"zerolinecolor\":\"white\",\"automargin\":true,\"zerolinewidth\":2},\"yaxis\":{\"gridcolor\":\"white\",\"linecolor\":\"white\",\"ticks\":\"\",\"title\":{\"standoff\":15},\"zerolinecolor\":\"white\",\"automargin\":true,\"zerolinewidth\":2},\"scene\":{\"xaxis\":{\"backgroundcolor\":\"#E5ECF6\",\"gridcolor\":\"white\",\"linecolor\":\"white\",\"showbackground\":true,\"ticks\":\"\",\"zerolinecolor\":\"white\",\"gridwidth\":2},\"yaxis\":{\"backgroundcolor\":\"#E5ECF6\",\"gridcolor\":\"white\",\"linecolor\":\"white\",\"showbackground\":true,\"ticks\":\"\",\"zerolinecolor\":\"white\",\"gridwidth\":2},\"zaxis\":{\"backgroundcolor\":\"#E5ECF6\",\"gridcolor\":\"white\",\"linecolor\":\"white\",\"showbackground\":true,\"ticks\":\"\",\"zerolinecolor\":\"white\",\"gridwidth\":2}},\"shapedefaults\":{\"line\":{\"color\":\"#2a3f5f\"}},\"annotationdefaults\":{\"arrowcolor\":\"#2a3f5f\",\"arrowhead\":0,\"arrowwidth\":1},\"geo\":{\"bgcolor\":\"white\",\"landcolor\":\"#E5ECF6\",\"subunitcolor\":\"white\",\"showland\":true,\"showlakes\":true,\"lakecolor\":\"white\"},\"title\":{\"x\":0.05},\"mapbox\":{\"style\":\"light\"}}},\"legend\":{\"title\":{\"text\":\"Gamma:\"}}},                        {\"responsive\": true}                    ).then(function(){\n                            \nvar gd = document.getElementById('d7d5814f-467d-4918-95a0-c9b793b910ed');\nvar x = new MutationObserver(function (mutations, observer) {{\n        var display = window.getComputedStyle(gd).display;\n        if (!display || display === 'none') {{\n            console.log([gd, 'removed!']);\n            Plotly.purge(gd);\n            observer.disconnect();\n        }}\n}});\n\n// Listen for the removal of the full notebook cells\nvar notebookContainer = gd.closest('#notebook-container');\nif (notebookContainer) {{\n    x.observe(notebookContainer, {childList: true});\n}}\n\n// Listen for the clearing of the current output cell\nvar outputEl = gd.closest('.output');\nif (outputEl) {{\n    x.observe(outputEl, {childList: true});\n}}\n\n                        })                };                });            </script>        </div>"
     },
     "metadata": {},
     "output_type": "display_data"
    }
   ],
   "source": [
    "layout = go.Layout(\n",
    "    autosize=False,\n",
    "    width=800,\n",
    "    height=600,\n",
    "    xaxis=go.layout.XAxis(linecolor=\"black\", linewidth=1, mirror=True),\n",
    "    yaxis=go.layout.YAxis(linecolor=\"black\", linewidth=1, mirror=True),\n",
    "    margin=go.layout.Margin(l=50, r=50, b=100, t=100, pad=4),\n",
    "    title = \"Гарантируемая точность по зазору двойственности против времени работы\",\n",
    "    xaxis_title=\"Время, сек\",\n",
    "    yaxis_title=r'$log_{10}\\left( gap \\right)$'\n",
    ")\n",
    "\n",
    "fig = go.Figure(layout=layout)\n",
    "\n",
    "\n",
    "def plot_line_1(fig, gap, sec, iters, gamma_i):\n",
    "    fig.add_trace(go.Scatter(x=sec, y=gap,\n",
    "                            mode='lines+markers',\n",
    "                            name=str(gamma_i),\n",
    "                            showlegend=True))\n",
    "    fig.update_layout(legend={\"title\":\"Gamma:\"})\n",
    "\n",
    "\n",
    "\n",
    "for gamma_i, dct in dict_gaps.items():\n",
    "    gap = np.array(dct['gap'])\n",
    "\n",
    "    sec = np.array(dct['sec'])\n",
    "    iters = dct['iters']\n",
    "    plot_line_1(fig, np.log10(gap), sec, iters, gamma_i)\n",
    "fig.show()"
   ],
   "metadata": {
    "collapsed": false,
    "ExecuteTime": {
     "end_time": "2024-06-03T16:09:51.227594600Z",
     "start_time": "2024-06-03T16:09:50.559245600Z"
    }
   },
   "id": "f829d4b1bd1b84d5",
   "execution_count": 120
  },
  {
   "cell_type": "markdown",
   "source": [
    "### $\\epsilon_{inner}$"
   ],
   "metadata": {
    "collapsed": false
   },
   "id": "a6fdb7006ff51b51"
  },
  {
   "cell_type": "code",
   "outputs": [],
   "source": [
    "eps = [1e-1, 1e-2, 1e-5, 1e-8, 1e-10]"
   ],
   "metadata": {
    "collapsed": false,
    "ExecuteTime": {
     "end_time": "2024-06-03T16:09:51.947701500Z",
     "start_time": "2024-06-03T16:09:51.228595400Z"
    }
   },
   "id": "99a88d9a8ba450fd",
   "execution_count": 121
  },
  {
   "cell_type": "code",
   "outputs": [],
   "source": [
    "dict_eps = {eps_i: {'gap': None, 'sec': None, 'iters': None} for eps_i in eps}"
   ],
   "metadata": {
    "collapsed": false,
    "ExecuteTime": {
     "end_time": "2024-06-03T16:09:52.610760400Z",
     "start_time": "2024-06-03T16:09:51.959700600Z"
    }
   },
   "id": "9452577b42fd1e60",
   "execution_count": 122
  },
  {
   "cell_type": "code",
   "outputs": [
    {
     "name": "stdout",
     "output_type": "stream",
     "text": [
      "Newton coveraged on 0 iteration\n",
      "Newton coveraged on 1 iteration\n",
      "Newton coveraged on 2 iteration\n",
      "Newton coveraged on 3 iteration\n",
      "Newton coveraged on 4 iteration\n",
      "Newton coveraged on 5 iteration\n",
      "Newton coveraged on 6 iteration\n",
      "Newton coveraged on 7 iteration\n",
      "Newton coveraged on 8 iteration\n",
      "Newton coveraged on 9 iteration\n",
      "Newton coveraged on 10 iteration\n",
      "Newton coveraged on 0 iteration\n",
      "Newton coveraged on 1 iteration\n",
      "Newton coveraged on 2 iteration\n",
      "Newton coveraged on 3 iteration\n",
      "Newton coveraged on 4 iteration\n",
      "Newton coveraged on 5 iteration\n",
      "Newton coveraged on 6 iteration\n",
      "Newton coveraged on 7 iteration\n",
      "Newton coveraged on 8 iteration\n",
      "Newton coveraged on 9 iteration\n",
      "Newton coveraged on 10 iteration\n",
      "Newton coveraged on 0 iteration\n",
      "Newton coveraged on 1 iteration\n",
      "Newton coveraged on 2 iteration\n",
      "Newton coveraged on 3 iteration\n",
      "Newton coveraged on 4 iteration\n",
      "Newton coveraged on 5 iteration\n",
      "Newton coveraged on 6 iteration\n",
      "Newton coveraged on 7 iteration\n",
      "Newton coveraged on 8 iteration\n",
      "Newton coveraged on 9 iteration\n",
      "Newton coveraged on 10 iteration\n",
      "Newton coveraged on 0 iteration\n",
      "Newton coveraged on 1 iteration\n",
      "Newton coveraged on 2 iteration\n",
      "Newton coveraged on 3 iteration\n",
      "Newton coveraged on 4 iteration\n",
      "Newton coveraged on 5 iteration\n",
      "Newton coveraged on 6 iteration\n",
      "Newton coveraged on 7 iteration\n",
      "Newton coveraged on 8 iteration\n",
      "Newton coveraged on 9 iteration\n",
      "Newton coveraged on 10 iteration\n",
      "Newton coveraged on 0 iteration\n",
      "Newton coveraged on 1 iteration\n",
      "Newton coveraged on 2 iteration\n",
      "Newton coveraged on 3 iteration\n",
      "Newton coveraged on 4 iteration\n",
      "Newton coveraged on 5 iteration\n",
      "Newton coveraged on 6 iteration\n",
      "Newton coveraged on 7 iteration\n",
      "Newton coveraged on 8 iteration\n",
      "Newton coveraged on 9 iteration\n",
      "Newton coveraged on 10 iteration\n"
     ]
    }
   ],
   "source": [
    "for eps_i in eps:\n",
    "    xu, mes, hist = barrier_method_lasso(A, b, 1, x0, u0, trace=True, display=True, tolerance=1e-9, tolerance_inner=eps_i)\n",
    "    dict_eps[eps_i]['gap'] = hist['duality_gap']\n",
    "    dict_eps[eps_i]['sec'] = hist['time']\n",
    "    dict_eps[eps_i]['iters'] = len(hist['duality_gap'])"
   ],
   "metadata": {
    "collapsed": false,
    "ExecuteTime": {
     "end_time": "2024-06-03T16:09:54.793436500Z",
     "start_time": "2024-06-03T16:09:52.621153600Z"
    }
   },
   "id": "b3bfb2871f2afc20",
   "execution_count": 123
  },
  {
   "cell_type": "code",
   "outputs": [
    {
     "data": {
      "application/vnd.plotly.v1+json": {
       "data": [
        {
         "mode": "lines+markers",
         "name": "0.1",
         "showlegend": true,
         "x": [
          1,
          2,
          3,
          4,
          5,
          6,
          7,
          8,
          9,
          10,
          11,
          12
         ],
         "y": [
          6.045756934487548,
          0.8219499385217847,
          -0.10834227248596809,
          -1.0980585746223603,
          -2.0970271698764393,
          -3.0969218007222596,
          -4.096910892954916,
          -5.096910853455984,
          -6.096914605870495,
          -7.097052875326707,
          -8.096519792677938,
          -9.098695720391166
         ],
         "type": "scatter"
        },
        {
         "mode": "lines+markers",
         "name": "0.01",
         "showlegend": true,
         "x": [
          1,
          2,
          3,
          4,
          5,
          6,
          7,
          8,
          9,
          10,
          11,
          12
         ],
         "y": [
          6.045756934487548,
          0.8219499385217847,
          -0.10883611802725311,
          -1.0980882302643347,
          -2.0970292125229006,
          -3.096921958721989,
          -4.096911110199102,
          -5.096912235920716,
          -6.096883007603431,
          -7.096993611597819,
          -8.095534327127114,
          -9.121076500268524
         ],
         "type": "scatter"
        },
        {
         "mode": "lines+markers",
         "name": "1e-05",
         "showlegend": true,
         "x": [
          1,
          2,
          3,
          4,
          5,
          6,
          7,
          8,
          9,
          10,
          11,
          12
         ],
         "y": [
          6.045756934487548,
          0.8219499385217847,
          -0.10888876649489096,
          -1.0981035126282093,
          -2.097029244328207,
          -3.0969219290970353,
          -4.096911110199102,
          -5.096912828406949,
          -6.096938306079615,
          -7.096993611597819,
          -8.097705310653145,
          -9.092786860780647
         ],
         "type": "scatter"
        },
        {
         "mode": "lines+markers",
         "name": "1e-08",
         "showlegend": true,
         "x": [
          1,
          2,
          3,
          4,
          5,
          6,
          7,
          8,
          9,
          10,
          11,
          12
         ],
         "y": [
          6.045756934487548,
          0.8131306314999229,
          -0.10888876651722286,
          -1.0981035128658545,
          -2.097029247093886,
          -3.096921921197048,
          -4.096911090449626,
          -5.096911643435292,
          -6.096928430835302,
          -7.097210951485476,
          -8.098299285418953,
          -9.077411999213693
         ],
         "type": "scatter"
        },
        {
         "mode": "lines+markers",
         "name": "1e-10",
         "showlegend": true,
         "x": [
          1,
          2,
          3,
          4,
          5,
          6,
          7,
          8,
          9,
          10,
          11,
          12
         ],
         "y": [
          6.045756934487548,
          0.8068476697363917,
          -0.1088887664989513,
          -1.0981035125291905,
          -2.097029245711046,
          -3.0969219389720197,
          -4.096911189197015,
          -5.096910655961382,
          -6.09690473116507,
          -7.096875108395873,
          -8.097112147143813,
          -9.060741934283147
         ],
         "type": "scatter"
        }
       ],
       "layout": {
        "autosize": false,
        "height": 600,
        "margin": {
         "b": 100,
         "l": 50,
         "pad": 4,
         "r": 50,
         "t": 100
        },
        "title": {
         "text": "Гарантируемая точность по зазору двойственности против числа итераций"
        },
        "width": 800,
        "xaxis": {
         "linecolor": "black",
         "linewidth": 1,
         "mirror": true,
         "title": {
          "text": "Количество итераций метода"
         }
        },
        "yaxis": {
         "linecolor": "black",
         "linewidth": 1,
         "mirror": true,
         "title": {
          "text": "$log_{10}\\left( gap \\right)$"
         }
        },
        "template": {
         "data": {
          "histogram2dcontour": [
           {
            "type": "histogram2dcontour",
            "colorbar": {
             "outlinewidth": 0,
             "ticks": ""
            },
            "colorscale": [
             [
              0.0,
              "#0d0887"
             ],
             [
              0.1111111111111111,
              "#46039f"
             ],
             [
              0.2222222222222222,
              "#7201a8"
             ],
             [
              0.3333333333333333,
              "#9c179e"
             ],
             [
              0.4444444444444444,
              "#bd3786"
             ],
             [
              0.5555555555555556,
              "#d8576b"
             ],
             [
              0.6666666666666666,
              "#ed7953"
             ],
             [
              0.7777777777777778,
              "#fb9f3a"
             ],
             [
              0.8888888888888888,
              "#fdca26"
             ],
             [
              1.0,
              "#f0f921"
             ]
            ]
           }
          ],
          "choropleth": [
           {
            "type": "choropleth",
            "colorbar": {
             "outlinewidth": 0,
             "ticks": ""
            }
           }
          ],
          "histogram2d": [
           {
            "type": "histogram2d",
            "colorbar": {
             "outlinewidth": 0,
             "ticks": ""
            },
            "colorscale": [
             [
              0.0,
              "#0d0887"
             ],
             [
              0.1111111111111111,
              "#46039f"
             ],
             [
              0.2222222222222222,
              "#7201a8"
             ],
             [
              0.3333333333333333,
              "#9c179e"
             ],
             [
              0.4444444444444444,
              "#bd3786"
             ],
             [
              0.5555555555555556,
              "#d8576b"
             ],
             [
              0.6666666666666666,
              "#ed7953"
             ],
             [
              0.7777777777777778,
              "#fb9f3a"
             ],
             [
              0.8888888888888888,
              "#fdca26"
             ],
             [
              1.0,
              "#f0f921"
             ]
            ]
           }
          ],
          "heatmap": [
           {
            "type": "heatmap",
            "colorbar": {
             "outlinewidth": 0,
             "ticks": ""
            },
            "colorscale": [
             [
              0.0,
              "#0d0887"
             ],
             [
              0.1111111111111111,
              "#46039f"
             ],
             [
              0.2222222222222222,
              "#7201a8"
             ],
             [
              0.3333333333333333,
              "#9c179e"
             ],
             [
              0.4444444444444444,
              "#bd3786"
             ],
             [
              0.5555555555555556,
              "#d8576b"
             ],
             [
              0.6666666666666666,
              "#ed7953"
             ],
             [
              0.7777777777777778,
              "#fb9f3a"
             ],
             [
              0.8888888888888888,
              "#fdca26"
             ],
             [
              1.0,
              "#f0f921"
             ]
            ]
           }
          ],
          "heatmapgl": [
           {
            "type": "heatmapgl",
            "colorbar": {
             "outlinewidth": 0,
             "ticks": ""
            },
            "colorscale": [
             [
              0.0,
              "#0d0887"
             ],
             [
              0.1111111111111111,
              "#46039f"
             ],
             [
              0.2222222222222222,
              "#7201a8"
             ],
             [
              0.3333333333333333,
              "#9c179e"
             ],
             [
              0.4444444444444444,
              "#bd3786"
             ],
             [
              0.5555555555555556,
              "#d8576b"
             ],
             [
              0.6666666666666666,
              "#ed7953"
             ],
             [
              0.7777777777777778,
              "#fb9f3a"
             ],
             [
              0.8888888888888888,
              "#fdca26"
             ],
             [
              1.0,
              "#f0f921"
             ]
            ]
           }
          ],
          "contourcarpet": [
           {
            "type": "contourcarpet",
            "colorbar": {
             "outlinewidth": 0,
             "ticks": ""
            }
           }
          ],
          "contour": [
           {
            "type": "contour",
            "colorbar": {
             "outlinewidth": 0,
             "ticks": ""
            },
            "colorscale": [
             [
              0.0,
              "#0d0887"
             ],
             [
              0.1111111111111111,
              "#46039f"
             ],
             [
              0.2222222222222222,
              "#7201a8"
             ],
             [
              0.3333333333333333,
              "#9c179e"
             ],
             [
              0.4444444444444444,
              "#bd3786"
             ],
             [
              0.5555555555555556,
              "#d8576b"
             ],
             [
              0.6666666666666666,
              "#ed7953"
             ],
             [
              0.7777777777777778,
              "#fb9f3a"
             ],
             [
              0.8888888888888888,
              "#fdca26"
             ],
             [
              1.0,
              "#f0f921"
             ]
            ]
           }
          ],
          "surface": [
           {
            "type": "surface",
            "colorbar": {
             "outlinewidth": 0,
             "ticks": ""
            },
            "colorscale": [
             [
              0.0,
              "#0d0887"
             ],
             [
              0.1111111111111111,
              "#46039f"
             ],
             [
              0.2222222222222222,
              "#7201a8"
             ],
             [
              0.3333333333333333,
              "#9c179e"
             ],
             [
              0.4444444444444444,
              "#bd3786"
             ],
             [
              0.5555555555555556,
              "#d8576b"
             ],
             [
              0.6666666666666666,
              "#ed7953"
             ],
             [
              0.7777777777777778,
              "#fb9f3a"
             ],
             [
              0.8888888888888888,
              "#fdca26"
             ],
             [
              1.0,
              "#f0f921"
             ]
            ]
           }
          ],
          "mesh3d": [
           {
            "type": "mesh3d",
            "colorbar": {
             "outlinewidth": 0,
             "ticks": ""
            }
           }
          ],
          "scatter": [
           {
            "fillpattern": {
             "fillmode": "overlay",
             "size": 10,
             "solidity": 0.2
            },
            "type": "scatter"
           }
          ],
          "parcoords": [
           {
            "type": "parcoords",
            "line": {
             "colorbar": {
              "outlinewidth": 0,
              "ticks": ""
             }
            }
           }
          ],
          "scatterpolargl": [
           {
            "type": "scatterpolargl",
            "marker": {
             "colorbar": {
              "outlinewidth": 0,
              "ticks": ""
             }
            }
           }
          ],
          "bar": [
           {
            "error_x": {
             "color": "#2a3f5f"
            },
            "error_y": {
             "color": "#2a3f5f"
            },
            "marker": {
             "line": {
              "color": "#E5ECF6",
              "width": 0.5
             },
             "pattern": {
              "fillmode": "overlay",
              "size": 10,
              "solidity": 0.2
             }
            },
            "type": "bar"
           }
          ],
          "scattergeo": [
           {
            "type": "scattergeo",
            "marker": {
             "colorbar": {
              "outlinewidth": 0,
              "ticks": ""
             }
            }
           }
          ],
          "scatterpolar": [
           {
            "type": "scatterpolar",
            "marker": {
             "colorbar": {
              "outlinewidth": 0,
              "ticks": ""
             }
            }
           }
          ],
          "histogram": [
           {
            "marker": {
             "pattern": {
              "fillmode": "overlay",
              "size": 10,
              "solidity": 0.2
             }
            },
            "type": "histogram"
           }
          ],
          "scattergl": [
           {
            "type": "scattergl",
            "marker": {
             "colorbar": {
              "outlinewidth": 0,
              "ticks": ""
             }
            }
           }
          ],
          "scatter3d": [
           {
            "type": "scatter3d",
            "line": {
             "colorbar": {
              "outlinewidth": 0,
              "ticks": ""
             }
            },
            "marker": {
             "colorbar": {
              "outlinewidth": 0,
              "ticks": ""
             }
            }
           }
          ],
          "scattermapbox": [
           {
            "type": "scattermapbox",
            "marker": {
             "colorbar": {
              "outlinewidth": 0,
              "ticks": ""
             }
            }
           }
          ],
          "scatterternary": [
           {
            "type": "scatterternary",
            "marker": {
             "colorbar": {
              "outlinewidth": 0,
              "ticks": ""
             }
            }
           }
          ],
          "scattercarpet": [
           {
            "type": "scattercarpet",
            "marker": {
             "colorbar": {
              "outlinewidth": 0,
              "ticks": ""
             }
            }
           }
          ],
          "carpet": [
           {
            "aaxis": {
             "endlinecolor": "#2a3f5f",
             "gridcolor": "white",
             "linecolor": "white",
             "minorgridcolor": "white",
             "startlinecolor": "#2a3f5f"
            },
            "baxis": {
             "endlinecolor": "#2a3f5f",
             "gridcolor": "white",
             "linecolor": "white",
             "minorgridcolor": "white",
             "startlinecolor": "#2a3f5f"
            },
            "type": "carpet"
           }
          ],
          "table": [
           {
            "cells": {
             "fill": {
              "color": "#EBF0F8"
             },
             "line": {
              "color": "white"
             }
            },
            "header": {
             "fill": {
              "color": "#C8D4E3"
             },
             "line": {
              "color": "white"
             }
            },
            "type": "table"
           }
          ],
          "barpolar": [
           {
            "marker": {
             "line": {
              "color": "#E5ECF6",
              "width": 0.5
             },
             "pattern": {
              "fillmode": "overlay",
              "size": 10,
              "solidity": 0.2
             }
            },
            "type": "barpolar"
           }
          ],
          "pie": [
           {
            "automargin": true,
            "type": "pie"
           }
          ]
         },
         "layout": {
          "autotypenumbers": "strict",
          "colorway": [
           "#636efa",
           "#EF553B",
           "#00cc96",
           "#ab63fa",
           "#FFA15A",
           "#19d3f3",
           "#FF6692",
           "#B6E880",
           "#FF97FF",
           "#FECB52"
          ],
          "font": {
           "color": "#2a3f5f"
          },
          "hovermode": "closest",
          "hoverlabel": {
           "align": "left"
          },
          "paper_bgcolor": "white",
          "plot_bgcolor": "#E5ECF6",
          "polar": {
           "bgcolor": "#E5ECF6",
           "angularaxis": {
            "gridcolor": "white",
            "linecolor": "white",
            "ticks": ""
           },
           "radialaxis": {
            "gridcolor": "white",
            "linecolor": "white",
            "ticks": ""
           }
          },
          "ternary": {
           "bgcolor": "#E5ECF6",
           "aaxis": {
            "gridcolor": "white",
            "linecolor": "white",
            "ticks": ""
           },
           "baxis": {
            "gridcolor": "white",
            "linecolor": "white",
            "ticks": ""
           },
           "caxis": {
            "gridcolor": "white",
            "linecolor": "white",
            "ticks": ""
           }
          },
          "coloraxis": {
           "colorbar": {
            "outlinewidth": 0,
            "ticks": ""
           }
          },
          "colorscale": {
           "sequential": [
            [
             0.0,
             "#0d0887"
            ],
            [
             0.1111111111111111,
             "#46039f"
            ],
            [
             0.2222222222222222,
             "#7201a8"
            ],
            [
             0.3333333333333333,
             "#9c179e"
            ],
            [
             0.4444444444444444,
             "#bd3786"
            ],
            [
             0.5555555555555556,
             "#d8576b"
            ],
            [
             0.6666666666666666,
             "#ed7953"
            ],
            [
             0.7777777777777778,
             "#fb9f3a"
            ],
            [
             0.8888888888888888,
             "#fdca26"
            ],
            [
             1.0,
             "#f0f921"
            ]
           ],
           "sequentialminus": [
            [
             0.0,
             "#0d0887"
            ],
            [
             0.1111111111111111,
             "#46039f"
            ],
            [
             0.2222222222222222,
             "#7201a8"
            ],
            [
             0.3333333333333333,
             "#9c179e"
            ],
            [
             0.4444444444444444,
             "#bd3786"
            ],
            [
             0.5555555555555556,
             "#d8576b"
            ],
            [
             0.6666666666666666,
             "#ed7953"
            ],
            [
             0.7777777777777778,
             "#fb9f3a"
            ],
            [
             0.8888888888888888,
             "#fdca26"
            ],
            [
             1.0,
             "#f0f921"
            ]
           ],
           "diverging": [
            [
             0,
             "#8e0152"
            ],
            [
             0.1,
             "#c51b7d"
            ],
            [
             0.2,
             "#de77ae"
            ],
            [
             0.3,
             "#f1b6da"
            ],
            [
             0.4,
             "#fde0ef"
            ],
            [
             0.5,
             "#f7f7f7"
            ],
            [
             0.6,
             "#e6f5d0"
            ],
            [
             0.7,
             "#b8e186"
            ],
            [
             0.8,
             "#7fbc41"
            ],
            [
             0.9,
             "#4d9221"
            ],
            [
             1,
             "#276419"
            ]
           ]
          },
          "xaxis": {
           "gridcolor": "white",
           "linecolor": "white",
           "ticks": "",
           "title": {
            "standoff": 15
           },
           "zerolinecolor": "white",
           "automargin": true,
           "zerolinewidth": 2
          },
          "yaxis": {
           "gridcolor": "white",
           "linecolor": "white",
           "ticks": "",
           "title": {
            "standoff": 15
           },
           "zerolinecolor": "white",
           "automargin": true,
           "zerolinewidth": 2
          },
          "scene": {
           "xaxis": {
            "backgroundcolor": "#E5ECF6",
            "gridcolor": "white",
            "linecolor": "white",
            "showbackground": true,
            "ticks": "",
            "zerolinecolor": "white",
            "gridwidth": 2
           },
           "yaxis": {
            "backgroundcolor": "#E5ECF6",
            "gridcolor": "white",
            "linecolor": "white",
            "showbackground": true,
            "ticks": "",
            "zerolinecolor": "white",
            "gridwidth": 2
           },
           "zaxis": {
            "backgroundcolor": "#E5ECF6",
            "gridcolor": "white",
            "linecolor": "white",
            "showbackground": true,
            "ticks": "",
            "zerolinecolor": "white",
            "gridwidth": 2
           }
          },
          "shapedefaults": {
           "line": {
            "color": "#2a3f5f"
           }
          },
          "annotationdefaults": {
           "arrowcolor": "#2a3f5f",
           "arrowhead": 0,
           "arrowwidth": 1
          },
          "geo": {
           "bgcolor": "white",
           "landcolor": "#E5ECF6",
           "subunitcolor": "white",
           "showland": true,
           "showlakes": true,
           "lakecolor": "white"
          },
          "title": {
           "x": 0.05
          },
          "mapbox": {
           "style": "light"
          }
         }
        },
        "legend": {
         "title": {
          "text": "Tolerance inner:"
         }
        }
       },
       "config": {
        "plotlyServerURL": "https://plot.ly"
       }
      },
      "text/html": "<div>                            <div id=\"760e92a5-8cea-43dc-b7ee-54d22dda906b\" class=\"plotly-graph-div\" style=\"height:600px; width:800px;\"></div>            <script type=\"text/javascript\">                require([\"plotly\"], function(Plotly) {                    window.PLOTLYENV=window.PLOTLYENV || {};                                    if (document.getElementById(\"760e92a5-8cea-43dc-b7ee-54d22dda906b\")) {                    Plotly.newPlot(                        \"760e92a5-8cea-43dc-b7ee-54d22dda906b\",                        [{\"mode\":\"lines+markers\",\"name\":\"0.1\",\"showlegend\":true,\"x\":[1,2,3,4,5,6,7,8,9,10,11,12],\"y\":[6.045756934487548,0.8219499385217847,-0.10834227248596809,-1.0980585746223603,-2.0970271698764393,-3.0969218007222596,-4.096910892954916,-5.096910853455984,-6.096914605870495,-7.097052875326707,-8.096519792677938,-9.098695720391166],\"type\":\"scatter\"},{\"mode\":\"lines+markers\",\"name\":\"0.01\",\"showlegend\":true,\"x\":[1,2,3,4,5,6,7,8,9,10,11,12],\"y\":[6.045756934487548,0.8219499385217847,-0.10883611802725311,-1.0980882302643347,-2.0970292125229006,-3.096921958721989,-4.096911110199102,-5.096912235920716,-6.096883007603431,-7.096993611597819,-8.095534327127114,-9.121076500268524],\"type\":\"scatter\"},{\"mode\":\"lines+markers\",\"name\":\"1e-05\",\"showlegend\":true,\"x\":[1,2,3,4,5,6,7,8,9,10,11,12],\"y\":[6.045756934487548,0.8219499385217847,-0.10888876649489096,-1.0981035126282093,-2.097029244328207,-3.0969219290970353,-4.096911110199102,-5.096912828406949,-6.096938306079615,-7.096993611597819,-8.097705310653145,-9.092786860780647],\"type\":\"scatter\"},{\"mode\":\"lines+markers\",\"name\":\"1e-08\",\"showlegend\":true,\"x\":[1,2,3,4,5,6,7,8,9,10,11,12],\"y\":[6.045756934487548,0.8131306314999229,-0.10888876651722286,-1.0981035128658545,-2.097029247093886,-3.096921921197048,-4.096911090449626,-5.096911643435292,-6.096928430835302,-7.097210951485476,-8.098299285418953,-9.077411999213693],\"type\":\"scatter\"},{\"mode\":\"lines+markers\",\"name\":\"1e-10\",\"showlegend\":true,\"x\":[1,2,3,4,5,6,7,8,9,10,11,12],\"y\":[6.045756934487548,0.8068476697363917,-0.1088887664989513,-1.0981035125291905,-2.097029245711046,-3.0969219389720197,-4.096911189197015,-5.096910655961382,-6.09690473116507,-7.096875108395873,-8.097112147143813,-9.060741934283147],\"type\":\"scatter\"}],                        {\"autosize\":false,\"height\":600,\"margin\":{\"b\":100,\"l\":50,\"pad\":4,\"r\":50,\"t\":100},\"title\":{\"text\":\"\\u0413\\u0430\\u0440\\u0430\\u043d\\u0442\\u0438\\u0440\\u0443\\u0435\\u043c\\u0430\\u044f \\u0442\\u043e\\u0447\\u043d\\u043e\\u0441\\u0442\\u044c \\u043f\\u043e \\u0437\\u0430\\u0437\\u043e\\u0440\\u0443 \\u0434\\u0432\\u043e\\u0439\\u0441\\u0442\\u0432\\u0435\\u043d\\u043d\\u043e\\u0441\\u0442\\u0438 \\u043f\\u0440\\u043e\\u0442\\u0438\\u0432 \\u0447\\u0438\\u0441\\u043b\\u0430 \\u0438\\u0442\\u0435\\u0440\\u0430\\u0446\\u0438\\u0439\"},\"width\":800,\"xaxis\":{\"linecolor\":\"black\",\"linewidth\":1,\"mirror\":true,\"title\":{\"text\":\"\\u041a\\u043e\\u043b\\u0438\\u0447\\u0435\\u0441\\u0442\\u0432\\u043e \\u0438\\u0442\\u0435\\u0440\\u0430\\u0446\\u0438\\u0439 \\u043c\\u0435\\u0442\\u043e\\u0434\\u0430\"}},\"yaxis\":{\"linecolor\":\"black\",\"linewidth\":1,\"mirror\":true,\"title\":{\"text\":\"$log_{10}\\\\left( gap \\\\right)$\"}},\"template\":{\"data\":{\"histogram2dcontour\":[{\"type\":\"histogram2dcontour\",\"colorbar\":{\"outlinewidth\":0,\"ticks\":\"\"},\"colorscale\":[[0.0,\"#0d0887\"],[0.1111111111111111,\"#46039f\"],[0.2222222222222222,\"#7201a8\"],[0.3333333333333333,\"#9c179e\"],[0.4444444444444444,\"#bd3786\"],[0.5555555555555556,\"#d8576b\"],[0.6666666666666666,\"#ed7953\"],[0.7777777777777778,\"#fb9f3a\"],[0.8888888888888888,\"#fdca26\"],[1.0,\"#f0f921\"]]}],\"choropleth\":[{\"type\":\"choropleth\",\"colorbar\":{\"outlinewidth\":0,\"ticks\":\"\"}}],\"histogram2d\":[{\"type\":\"histogram2d\",\"colorbar\":{\"outlinewidth\":0,\"ticks\":\"\"},\"colorscale\":[[0.0,\"#0d0887\"],[0.1111111111111111,\"#46039f\"],[0.2222222222222222,\"#7201a8\"],[0.3333333333333333,\"#9c179e\"],[0.4444444444444444,\"#bd3786\"],[0.5555555555555556,\"#d8576b\"],[0.6666666666666666,\"#ed7953\"],[0.7777777777777778,\"#fb9f3a\"],[0.8888888888888888,\"#fdca26\"],[1.0,\"#f0f921\"]]}],\"heatmap\":[{\"type\":\"heatmap\",\"colorbar\":{\"outlinewidth\":0,\"ticks\":\"\"},\"colorscale\":[[0.0,\"#0d0887\"],[0.1111111111111111,\"#46039f\"],[0.2222222222222222,\"#7201a8\"],[0.3333333333333333,\"#9c179e\"],[0.4444444444444444,\"#bd3786\"],[0.5555555555555556,\"#d8576b\"],[0.6666666666666666,\"#ed7953\"],[0.7777777777777778,\"#fb9f3a\"],[0.8888888888888888,\"#fdca26\"],[1.0,\"#f0f921\"]]}],\"heatmapgl\":[{\"type\":\"heatmapgl\",\"colorbar\":{\"outlinewidth\":0,\"ticks\":\"\"},\"colorscale\":[[0.0,\"#0d0887\"],[0.1111111111111111,\"#46039f\"],[0.2222222222222222,\"#7201a8\"],[0.3333333333333333,\"#9c179e\"],[0.4444444444444444,\"#bd3786\"],[0.5555555555555556,\"#d8576b\"],[0.6666666666666666,\"#ed7953\"],[0.7777777777777778,\"#fb9f3a\"],[0.8888888888888888,\"#fdca26\"],[1.0,\"#f0f921\"]]}],\"contourcarpet\":[{\"type\":\"contourcarpet\",\"colorbar\":{\"outlinewidth\":0,\"ticks\":\"\"}}],\"contour\":[{\"type\":\"contour\",\"colorbar\":{\"outlinewidth\":0,\"ticks\":\"\"},\"colorscale\":[[0.0,\"#0d0887\"],[0.1111111111111111,\"#46039f\"],[0.2222222222222222,\"#7201a8\"],[0.3333333333333333,\"#9c179e\"],[0.4444444444444444,\"#bd3786\"],[0.5555555555555556,\"#d8576b\"],[0.6666666666666666,\"#ed7953\"],[0.7777777777777778,\"#fb9f3a\"],[0.8888888888888888,\"#fdca26\"],[1.0,\"#f0f921\"]]}],\"surface\":[{\"type\":\"surface\",\"colorbar\":{\"outlinewidth\":0,\"ticks\":\"\"},\"colorscale\":[[0.0,\"#0d0887\"],[0.1111111111111111,\"#46039f\"],[0.2222222222222222,\"#7201a8\"],[0.3333333333333333,\"#9c179e\"],[0.4444444444444444,\"#bd3786\"],[0.5555555555555556,\"#d8576b\"],[0.6666666666666666,\"#ed7953\"],[0.7777777777777778,\"#fb9f3a\"],[0.8888888888888888,\"#fdca26\"],[1.0,\"#f0f921\"]]}],\"mesh3d\":[{\"type\":\"mesh3d\",\"colorbar\":{\"outlinewidth\":0,\"ticks\":\"\"}}],\"scatter\":[{\"fillpattern\":{\"fillmode\":\"overlay\",\"size\":10,\"solidity\":0.2},\"type\":\"scatter\"}],\"parcoords\":[{\"type\":\"parcoords\",\"line\":{\"colorbar\":{\"outlinewidth\":0,\"ticks\":\"\"}}}],\"scatterpolargl\":[{\"type\":\"scatterpolargl\",\"marker\":{\"colorbar\":{\"outlinewidth\":0,\"ticks\":\"\"}}}],\"bar\":[{\"error_x\":{\"color\":\"#2a3f5f\"},\"error_y\":{\"color\":\"#2a3f5f\"},\"marker\":{\"line\":{\"color\":\"#E5ECF6\",\"width\":0.5},\"pattern\":{\"fillmode\":\"overlay\",\"size\":10,\"solidity\":0.2}},\"type\":\"bar\"}],\"scattergeo\":[{\"type\":\"scattergeo\",\"marker\":{\"colorbar\":{\"outlinewidth\":0,\"ticks\":\"\"}}}],\"scatterpolar\":[{\"type\":\"scatterpolar\",\"marker\":{\"colorbar\":{\"outlinewidth\":0,\"ticks\":\"\"}}}],\"histogram\":[{\"marker\":{\"pattern\":{\"fillmode\":\"overlay\",\"size\":10,\"solidity\":0.2}},\"type\":\"histogram\"}],\"scattergl\":[{\"type\":\"scattergl\",\"marker\":{\"colorbar\":{\"outlinewidth\":0,\"ticks\":\"\"}}}],\"scatter3d\":[{\"type\":\"scatter3d\",\"line\":{\"colorbar\":{\"outlinewidth\":0,\"ticks\":\"\"}},\"marker\":{\"colorbar\":{\"outlinewidth\":0,\"ticks\":\"\"}}}],\"scattermapbox\":[{\"type\":\"scattermapbox\",\"marker\":{\"colorbar\":{\"outlinewidth\":0,\"ticks\":\"\"}}}],\"scatterternary\":[{\"type\":\"scatterternary\",\"marker\":{\"colorbar\":{\"outlinewidth\":0,\"ticks\":\"\"}}}],\"scattercarpet\":[{\"type\":\"scattercarpet\",\"marker\":{\"colorbar\":{\"outlinewidth\":0,\"ticks\":\"\"}}}],\"carpet\":[{\"aaxis\":{\"endlinecolor\":\"#2a3f5f\",\"gridcolor\":\"white\",\"linecolor\":\"white\",\"minorgridcolor\":\"white\",\"startlinecolor\":\"#2a3f5f\"},\"baxis\":{\"endlinecolor\":\"#2a3f5f\",\"gridcolor\":\"white\",\"linecolor\":\"white\",\"minorgridcolor\":\"white\",\"startlinecolor\":\"#2a3f5f\"},\"type\":\"carpet\"}],\"table\":[{\"cells\":{\"fill\":{\"color\":\"#EBF0F8\"},\"line\":{\"color\":\"white\"}},\"header\":{\"fill\":{\"color\":\"#C8D4E3\"},\"line\":{\"color\":\"white\"}},\"type\":\"table\"}],\"barpolar\":[{\"marker\":{\"line\":{\"color\":\"#E5ECF6\",\"width\":0.5},\"pattern\":{\"fillmode\":\"overlay\",\"size\":10,\"solidity\":0.2}},\"type\":\"barpolar\"}],\"pie\":[{\"automargin\":true,\"type\":\"pie\"}]},\"layout\":{\"autotypenumbers\":\"strict\",\"colorway\":[\"#636efa\",\"#EF553B\",\"#00cc96\",\"#ab63fa\",\"#FFA15A\",\"#19d3f3\",\"#FF6692\",\"#B6E880\",\"#FF97FF\",\"#FECB52\"],\"font\":{\"color\":\"#2a3f5f\"},\"hovermode\":\"closest\",\"hoverlabel\":{\"align\":\"left\"},\"paper_bgcolor\":\"white\",\"plot_bgcolor\":\"#E5ECF6\",\"polar\":{\"bgcolor\":\"#E5ECF6\",\"angularaxis\":{\"gridcolor\":\"white\",\"linecolor\":\"white\",\"ticks\":\"\"},\"radialaxis\":{\"gridcolor\":\"white\",\"linecolor\":\"white\",\"ticks\":\"\"}},\"ternary\":{\"bgcolor\":\"#E5ECF6\",\"aaxis\":{\"gridcolor\":\"white\",\"linecolor\":\"white\",\"ticks\":\"\"},\"baxis\":{\"gridcolor\":\"white\",\"linecolor\":\"white\",\"ticks\":\"\"},\"caxis\":{\"gridcolor\":\"white\",\"linecolor\":\"white\",\"ticks\":\"\"}},\"coloraxis\":{\"colorbar\":{\"outlinewidth\":0,\"ticks\":\"\"}},\"colorscale\":{\"sequential\":[[0.0,\"#0d0887\"],[0.1111111111111111,\"#46039f\"],[0.2222222222222222,\"#7201a8\"],[0.3333333333333333,\"#9c179e\"],[0.4444444444444444,\"#bd3786\"],[0.5555555555555556,\"#d8576b\"],[0.6666666666666666,\"#ed7953\"],[0.7777777777777778,\"#fb9f3a\"],[0.8888888888888888,\"#fdca26\"],[1.0,\"#f0f921\"]],\"sequentialminus\":[[0.0,\"#0d0887\"],[0.1111111111111111,\"#46039f\"],[0.2222222222222222,\"#7201a8\"],[0.3333333333333333,\"#9c179e\"],[0.4444444444444444,\"#bd3786\"],[0.5555555555555556,\"#d8576b\"],[0.6666666666666666,\"#ed7953\"],[0.7777777777777778,\"#fb9f3a\"],[0.8888888888888888,\"#fdca26\"],[1.0,\"#f0f921\"]],\"diverging\":[[0,\"#8e0152\"],[0.1,\"#c51b7d\"],[0.2,\"#de77ae\"],[0.3,\"#f1b6da\"],[0.4,\"#fde0ef\"],[0.5,\"#f7f7f7\"],[0.6,\"#e6f5d0\"],[0.7,\"#b8e186\"],[0.8,\"#7fbc41\"],[0.9,\"#4d9221\"],[1,\"#276419\"]]},\"xaxis\":{\"gridcolor\":\"white\",\"linecolor\":\"white\",\"ticks\":\"\",\"title\":{\"standoff\":15},\"zerolinecolor\":\"white\",\"automargin\":true,\"zerolinewidth\":2},\"yaxis\":{\"gridcolor\":\"white\",\"linecolor\":\"white\",\"ticks\":\"\",\"title\":{\"standoff\":15},\"zerolinecolor\":\"white\",\"automargin\":true,\"zerolinewidth\":2},\"scene\":{\"xaxis\":{\"backgroundcolor\":\"#E5ECF6\",\"gridcolor\":\"white\",\"linecolor\":\"white\",\"showbackground\":true,\"ticks\":\"\",\"zerolinecolor\":\"white\",\"gridwidth\":2},\"yaxis\":{\"backgroundcolor\":\"#E5ECF6\",\"gridcolor\":\"white\",\"linecolor\":\"white\",\"showbackground\":true,\"ticks\":\"\",\"zerolinecolor\":\"white\",\"gridwidth\":2},\"zaxis\":{\"backgroundcolor\":\"#E5ECF6\",\"gridcolor\":\"white\",\"linecolor\":\"white\",\"showbackground\":true,\"ticks\":\"\",\"zerolinecolor\":\"white\",\"gridwidth\":2}},\"shapedefaults\":{\"line\":{\"color\":\"#2a3f5f\"}},\"annotationdefaults\":{\"arrowcolor\":\"#2a3f5f\",\"arrowhead\":0,\"arrowwidth\":1},\"geo\":{\"bgcolor\":\"white\",\"landcolor\":\"#E5ECF6\",\"subunitcolor\":\"white\",\"showland\":true,\"showlakes\":true,\"lakecolor\":\"white\"},\"title\":{\"x\":0.05},\"mapbox\":{\"style\":\"light\"}}},\"legend\":{\"title\":{\"text\":\"Tolerance inner:\"}}},                        {\"responsive\": true}                    ).then(function(){\n                            \nvar gd = document.getElementById('760e92a5-8cea-43dc-b7ee-54d22dda906b');\nvar x = new MutationObserver(function (mutations, observer) {{\n        var display = window.getComputedStyle(gd).display;\n        if (!display || display === 'none') {{\n            console.log([gd, 'removed!']);\n            Plotly.purge(gd);\n            observer.disconnect();\n        }}\n}});\n\n// Listen for the removal of the full notebook cells\nvar notebookContainer = gd.closest('#notebook-container');\nif (notebookContainer) {{\n    x.observe(notebookContainer, {childList: true});\n}}\n\n// Listen for the clearing of the current output cell\nvar outputEl = gd.closest('.output');\nif (outputEl) {{\n    x.observe(outputEl, {childList: true});\n}}\n\n                        })                };                });            </script>        </div>"
     },
     "metadata": {},
     "output_type": "display_data"
    }
   ],
   "source": [
    "layout = go.Layout(\n",
    "    autosize=False,\n",
    "    width=800,\n",
    "    height=600,\n",
    "    xaxis=go.layout.XAxis(linecolor=\"black\", linewidth=1, mirror=True),\n",
    "    yaxis=go.layout.YAxis(linecolor=\"black\", linewidth=1, mirror=True),\n",
    "    margin=go.layout.Margin(l=50, r=50, b=100, t=100, pad=4),\n",
    "    title = \"Гарантируемая точность по зазору двойственности против числа итераций\",\n",
    "    xaxis_title=\"Количество итераций метода\",\n",
    "    yaxis_title=r'$log_{10}\\left( gap \\right)$'\n",
    ")\n",
    "\n",
    "fig = go.Figure(layout=layout)\n",
    "\n",
    "\n",
    "def plot_line_1(fig, gap, sec, iters, gamma_i):\n",
    "    fig.add_trace(go.Scatter(x=np.arange(1, iters+1), y=gap,\n",
    "                            mode='lines+markers',\n",
    "                            name=str(gamma_i),\n",
    "                            showlegend=True))\n",
    "    fig.update_layout(legend={\"title\":\"Tolerance inner:\"})\n",
    "\n",
    "\n",
    "for gamma_i, dct in dict_eps.items():\n",
    "    gap = np.array(dct['gap'])\n",
    "\n",
    "    sec = np.array(dct['sec'])\n",
    "    iters = dct['iters']\n",
    "    plot_line_1(fig, np.log10(gap), sec, iters, gamma_i)\n",
    "fig.show()"
   ],
   "metadata": {
    "collapsed": false,
    "ExecuteTime": {
     "end_time": "2024-06-03T16:09:55.280886700Z",
     "start_time": "2024-06-03T16:09:54.784907300Z"
    }
   },
   "id": "a69307070ad737a7",
   "execution_count": 124
  },
  {
   "cell_type": "code",
   "outputs": [
    {
     "data": {
      "application/vnd.plotly.v1+json": {
       "data": [
        {
         "mode": "lines+markers",
         "name": "0.1",
         "showlegend": true,
         "x": [
          0.0,
          0.02488994598388672,
          0.06298065185546875,
          0.08806896209716797,
          0.1139364242553711,
          0.1430346965789795,
          0.17205071449279785,
          0.2025911808013916,
          0.22589802742004395,
          0.25708556175231934,
          0.278749942779541,
          0.30696940422058105
         ],
         "y": [
          6.045756934487548,
          0.8219499385217847,
          -0.10834227248596809,
          -1.0980585746223603,
          -2.0970271698764393,
          -3.0969218007222596,
          -4.096910892954916,
          -5.096910853455984,
          -6.096914605870495,
          -7.097052875326707,
          -8.096519792677938,
          -9.098695720391166
         ],
         "type": "scatter"
        },
        {
         "mode": "lines+markers",
         "name": "0.01",
         "showlegend": true,
         "x": [
          0.0,
          0.019016265869140625,
          0.050405263900756836,
          0.06986761093139648,
          0.09240031242370605,
          0.11564016342163086,
          0.13572263717651367,
          0.15553522109985352,
          0.18338513374328613,
          0.208099365234375,
          0.2363119125366211,
          0.2592284679412842
         ],
         "y": [
          6.045756934487548,
          0.8219499385217847,
          -0.10883611802725311,
          -1.0980882302643347,
          -2.0970292125229006,
          -3.096921958721989,
          -4.096911110199102,
          -5.096912235920716,
          -6.096883007603431,
          -7.096993611597819,
          -8.095534327127114,
          -9.121076500268524
         ],
         "type": "scatter"
        },
        {
         "mode": "lines+markers",
         "name": "1e-05",
         "showlegend": true,
         "x": [
          0.0,
          0.015994787216186523,
          0.05197906494140625,
          0.08193635940551758,
          0.10921049118041992,
          0.13500213623046875,
          0.16324853897094727,
          0.19578909873962402,
          0.22664189338684082,
          0.2522604465484619,
          0.2746255397796631,
          0.29784464836120605
         ],
         "y": [
          6.045756934487548,
          0.8219499385217847,
          -0.10888876649489096,
          -1.0981035126282093,
          -2.097029244328207,
          -3.0969219290970353,
          -4.096911110199102,
          -5.096912828406949,
          -6.096938306079615,
          -7.096993611597819,
          -8.097705310653145,
          -9.092786860780647
         ],
         "type": "scatter"
        },
        {
         "mode": "lines+markers",
         "name": "1e-08",
         "showlegend": true,
         "x": [
          0.0,
          0.019651174545288086,
          0.045064687728881836,
          0.08033037185668945,
          0.11852526664733887,
          0.1544179916381836,
          0.17969727516174316,
          0.20550751686096191,
          0.23413491249084473,
          0.2592504024505615,
          0.2930891513824463,
          0.36829209327697754
         ],
         "y": [
          6.045756934487548,
          0.8131306314999229,
          -0.10888876651722286,
          -1.0981035128658545,
          -2.097029247093886,
          -3.096921921197048,
          -4.096911090449626,
          -5.096911643435292,
          -6.096928430835302,
          -7.097210951485476,
          -8.098299285418953,
          -9.077411999213693
         ],
         "type": "scatter"
        },
        {
         "mode": "lines+markers",
         "name": "1e-10",
         "showlegend": true,
         "x": [
          0.0,
          0.027822256088256836,
          0.05307817459106445,
          0.07868695259094238,
          0.10314583778381348,
          0.13234233856201172,
          0.16691231727600098,
          0.20014214515686035,
          0.22904562950134277,
          0.2543222904205322,
          0.28502488136291504,
          0.3126373291015625
         ],
         "y": [
          6.045756934487548,
          0.8068476697363917,
          -0.1088887664989513,
          -1.0981035125291905,
          -2.097029245711046,
          -3.0969219389720197,
          -4.096911189197015,
          -5.096910655961382,
          -6.09690473116507,
          -7.096875108395873,
          -8.097112147143813,
          -9.060741934283147
         ],
         "type": "scatter"
        }
       ],
       "layout": {
        "autosize": false,
        "height": 600,
        "margin": {
         "b": 100,
         "l": 50,
         "pad": 4,
         "r": 50,
         "t": 100
        },
        "title": {
         "text": "Гарантируемая точность по зазору двойственности против времени работы"
        },
        "width": 800,
        "xaxis": {
         "linecolor": "black",
         "linewidth": 1,
         "mirror": true,
         "title": {
          "text": "Время, сек"
         }
        },
        "yaxis": {
         "linecolor": "black",
         "linewidth": 1,
         "mirror": true,
         "title": {
          "text": "$log_{10}\\left( gap \\right)$"
         }
        },
        "template": {
         "data": {
          "histogram2dcontour": [
           {
            "type": "histogram2dcontour",
            "colorbar": {
             "outlinewidth": 0,
             "ticks": ""
            },
            "colorscale": [
             [
              0.0,
              "#0d0887"
             ],
             [
              0.1111111111111111,
              "#46039f"
             ],
             [
              0.2222222222222222,
              "#7201a8"
             ],
             [
              0.3333333333333333,
              "#9c179e"
             ],
             [
              0.4444444444444444,
              "#bd3786"
             ],
             [
              0.5555555555555556,
              "#d8576b"
             ],
             [
              0.6666666666666666,
              "#ed7953"
             ],
             [
              0.7777777777777778,
              "#fb9f3a"
             ],
             [
              0.8888888888888888,
              "#fdca26"
             ],
             [
              1.0,
              "#f0f921"
             ]
            ]
           }
          ],
          "choropleth": [
           {
            "type": "choropleth",
            "colorbar": {
             "outlinewidth": 0,
             "ticks": ""
            }
           }
          ],
          "histogram2d": [
           {
            "type": "histogram2d",
            "colorbar": {
             "outlinewidth": 0,
             "ticks": ""
            },
            "colorscale": [
             [
              0.0,
              "#0d0887"
             ],
             [
              0.1111111111111111,
              "#46039f"
             ],
             [
              0.2222222222222222,
              "#7201a8"
             ],
             [
              0.3333333333333333,
              "#9c179e"
             ],
             [
              0.4444444444444444,
              "#bd3786"
             ],
             [
              0.5555555555555556,
              "#d8576b"
             ],
             [
              0.6666666666666666,
              "#ed7953"
             ],
             [
              0.7777777777777778,
              "#fb9f3a"
             ],
             [
              0.8888888888888888,
              "#fdca26"
             ],
             [
              1.0,
              "#f0f921"
             ]
            ]
           }
          ],
          "heatmap": [
           {
            "type": "heatmap",
            "colorbar": {
             "outlinewidth": 0,
             "ticks": ""
            },
            "colorscale": [
             [
              0.0,
              "#0d0887"
             ],
             [
              0.1111111111111111,
              "#46039f"
             ],
             [
              0.2222222222222222,
              "#7201a8"
             ],
             [
              0.3333333333333333,
              "#9c179e"
             ],
             [
              0.4444444444444444,
              "#bd3786"
             ],
             [
              0.5555555555555556,
              "#d8576b"
             ],
             [
              0.6666666666666666,
              "#ed7953"
             ],
             [
              0.7777777777777778,
              "#fb9f3a"
             ],
             [
              0.8888888888888888,
              "#fdca26"
             ],
             [
              1.0,
              "#f0f921"
             ]
            ]
           }
          ],
          "heatmapgl": [
           {
            "type": "heatmapgl",
            "colorbar": {
             "outlinewidth": 0,
             "ticks": ""
            },
            "colorscale": [
             [
              0.0,
              "#0d0887"
             ],
             [
              0.1111111111111111,
              "#46039f"
             ],
             [
              0.2222222222222222,
              "#7201a8"
             ],
             [
              0.3333333333333333,
              "#9c179e"
             ],
             [
              0.4444444444444444,
              "#bd3786"
             ],
             [
              0.5555555555555556,
              "#d8576b"
             ],
             [
              0.6666666666666666,
              "#ed7953"
             ],
             [
              0.7777777777777778,
              "#fb9f3a"
             ],
             [
              0.8888888888888888,
              "#fdca26"
             ],
             [
              1.0,
              "#f0f921"
             ]
            ]
           }
          ],
          "contourcarpet": [
           {
            "type": "contourcarpet",
            "colorbar": {
             "outlinewidth": 0,
             "ticks": ""
            }
           }
          ],
          "contour": [
           {
            "type": "contour",
            "colorbar": {
             "outlinewidth": 0,
             "ticks": ""
            },
            "colorscale": [
             [
              0.0,
              "#0d0887"
             ],
             [
              0.1111111111111111,
              "#46039f"
             ],
             [
              0.2222222222222222,
              "#7201a8"
             ],
             [
              0.3333333333333333,
              "#9c179e"
             ],
             [
              0.4444444444444444,
              "#bd3786"
             ],
             [
              0.5555555555555556,
              "#d8576b"
             ],
             [
              0.6666666666666666,
              "#ed7953"
             ],
             [
              0.7777777777777778,
              "#fb9f3a"
             ],
             [
              0.8888888888888888,
              "#fdca26"
             ],
             [
              1.0,
              "#f0f921"
             ]
            ]
           }
          ],
          "surface": [
           {
            "type": "surface",
            "colorbar": {
             "outlinewidth": 0,
             "ticks": ""
            },
            "colorscale": [
             [
              0.0,
              "#0d0887"
             ],
             [
              0.1111111111111111,
              "#46039f"
             ],
             [
              0.2222222222222222,
              "#7201a8"
             ],
             [
              0.3333333333333333,
              "#9c179e"
             ],
             [
              0.4444444444444444,
              "#bd3786"
             ],
             [
              0.5555555555555556,
              "#d8576b"
             ],
             [
              0.6666666666666666,
              "#ed7953"
             ],
             [
              0.7777777777777778,
              "#fb9f3a"
             ],
             [
              0.8888888888888888,
              "#fdca26"
             ],
             [
              1.0,
              "#f0f921"
             ]
            ]
           }
          ],
          "mesh3d": [
           {
            "type": "mesh3d",
            "colorbar": {
             "outlinewidth": 0,
             "ticks": ""
            }
           }
          ],
          "scatter": [
           {
            "fillpattern": {
             "fillmode": "overlay",
             "size": 10,
             "solidity": 0.2
            },
            "type": "scatter"
           }
          ],
          "parcoords": [
           {
            "type": "parcoords",
            "line": {
             "colorbar": {
              "outlinewidth": 0,
              "ticks": ""
             }
            }
           }
          ],
          "scatterpolargl": [
           {
            "type": "scatterpolargl",
            "marker": {
             "colorbar": {
              "outlinewidth": 0,
              "ticks": ""
             }
            }
           }
          ],
          "bar": [
           {
            "error_x": {
             "color": "#2a3f5f"
            },
            "error_y": {
             "color": "#2a3f5f"
            },
            "marker": {
             "line": {
              "color": "#E5ECF6",
              "width": 0.5
             },
             "pattern": {
              "fillmode": "overlay",
              "size": 10,
              "solidity": 0.2
             }
            },
            "type": "bar"
           }
          ],
          "scattergeo": [
           {
            "type": "scattergeo",
            "marker": {
             "colorbar": {
              "outlinewidth": 0,
              "ticks": ""
             }
            }
           }
          ],
          "scatterpolar": [
           {
            "type": "scatterpolar",
            "marker": {
             "colorbar": {
              "outlinewidth": 0,
              "ticks": ""
             }
            }
           }
          ],
          "histogram": [
           {
            "marker": {
             "pattern": {
              "fillmode": "overlay",
              "size": 10,
              "solidity": 0.2
             }
            },
            "type": "histogram"
           }
          ],
          "scattergl": [
           {
            "type": "scattergl",
            "marker": {
             "colorbar": {
              "outlinewidth": 0,
              "ticks": ""
             }
            }
           }
          ],
          "scatter3d": [
           {
            "type": "scatter3d",
            "line": {
             "colorbar": {
              "outlinewidth": 0,
              "ticks": ""
             }
            },
            "marker": {
             "colorbar": {
              "outlinewidth": 0,
              "ticks": ""
             }
            }
           }
          ],
          "scattermapbox": [
           {
            "type": "scattermapbox",
            "marker": {
             "colorbar": {
              "outlinewidth": 0,
              "ticks": ""
             }
            }
           }
          ],
          "scatterternary": [
           {
            "type": "scatterternary",
            "marker": {
             "colorbar": {
              "outlinewidth": 0,
              "ticks": ""
             }
            }
           }
          ],
          "scattercarpet": [
           {
            "type": "scattercarpet",
            "marker": {
             "colorbar": {
              "outlinewidth": 0,
              "ticks": ""
             }
            }
           }
          ],
          "carpet": [
           {
            "aaxis": {
             "endlinecolor": "#2a3f5f",
             "gridcolor": "white",
             "linecolor": "white",
             "minorgridcolor": "white",
             "startlinecolor": "#2a3f5f"
            },
            "baxis": {
             "endlinecolor": "#2a3f5f",
             "gridcolor": "white",
             "linecolor": "white",
             "minorgridcolor": "white",
             "startlinecolor": "#2a3f5f"
            },
            "type": "carpet"
           }
          ],
          "table": [
           {
            "cells": {
             "fill": {
              "color": "#EBF0F8"
             },
             "line": {
              "color": "white"
             }
            },
            "header": {
             "fill": {
              "color": "#C8D4E3"
             },
             "line": {
              "color": "white"
             }
            },
            "type": "table"
           }
          ],
          "barpolar": [
           {
            "marker": {
             "line": {
              "color": "#E5ECF6",
              "width": 0.5
             },
             "pattern": {
              "fillmode": "overlay",
              "size": 10,
              "solidity": 0.2
             }
            },
            "type": "barpolar"
           }
          ],
          "pie": [
           {
            "automargin": true,
            "type": "pie"
           }
          ]
         },
         "layout": {
          "autotypenumbers": "strict",
          "colorway": [
           "#636efa",
           "#EF553B",
           "#00cc96",
           "#ab63fa",
           "#FFA15A",
           "#19d3f3",
           "#FF6692",
           "#B6E880",
           "#FF97FF",
           "#FECB52"
          ],
          "font": {
           "color": "#2a3f5f"
          },
          "hovermode": "closest",
          "hoverlabel": {
           "align": "left"
          },
          "paper_bgcolor": "white",
          "plot_bgcolor": "#E5ECF6",
          "polar": {
           "bgcolor": "#E5ECF6",
           "angularaxis": {
            "gridcolor": "white",
            "linecolor": "white",
            "ticks": ""
           },
           "radialaxis": {
            "gridcolor": "white",
            "linecolor": "white",
            "ticks": ""
           }
          },
          "ternary": {
           "bgcolor": "#E5ECF6",
           "aaxis": {
            "gridcolor": "white",
            "linecolor": "white",
            "ticks": ""
           },
           "baxis": {
            "gridcolor": "white",
            "linecolor": "white",
            "ticks": ""
           },
           "caxis": {
            "gridcolor": "white",
            "linecolor": "white",
            "ticks": ""
           }
          },
          "coloraxis": {
           "colorbar": {
            "outlinewidth": 0,
            "ticks": ""
           }
          },
          "colorscale": {
           "sequential": [
            [
             0.0,
             "#0d0887"
            ],
            [
             0.1111111111111111,
             "#46039f"
            ],
            [
             0.2222222222222222,
             "#7201a8"
            ],
            [
             0.3333333333333333,
             "#9c179e"
            ],
            [
             0.4444444444444444,
             "#bd3786"
            ],
            [
             0.5555555555555556,
             "#d8576b"
            ],
            [
             0.6666666666666666,
             "#ed7953"
            ],
            [
             0.7777777777777778,
             "#fb9f3a"
            ],
            [
             0.8888888888888888,
             "#fdca26"
            ],
            [
             1.0,
             "#f0f921"
            ]
           ],
           "sequentialminus": [
            [
             0.0,
             "#0d0887"
            ],
            [
             0.1111111111111111,
             "#46039f"
            ],
            [
             0.2222222222222222,
             "#7201a8"
            ],
            [
             0.3333333333333333,
             "#9c179e"
            ],
            [
             0.4444444444444444,
             "#bd3786"
            ],
            [
             0.5555555555555556,
             "#d8576b"
            ],
            [
             0.6666666666666666,
             "#ed7953"
            ],
            [
             0.7777777777777778,
             "#fb9f3a"
            ],
            [
             0.8888888888888888,
             "#fdca26"
            ],
            [
             1.0,
             "#f0f921"
            ]
           ],
           "diverging": [
            [
             0,
             "#8e0152"
            ],
            [
             0.1,
             "#c51b7d"
            ],
            [
             0.2,
             "#de77ae"
            ],
            [
             0.3,
             "#f1b6da"
            ],
            [
             0.4,
             "#fde0ef"
            ],
            [
             0.5,
             "#f7f7f7"
            ],
            [
             0.6,
             "#e6f5d0"
            ],
            [
             0.7,
             "#b8e186"
            ],
            [
             0.8,
             "#7fbc41"
            ],
            [
             0.9,
             "#4d9221"
            ],
            [
             1,
             "#276419"
            ]
           ]
          },
          "xaxis": {
           "gridcolor": "white",
           "linecolor": "white",
           "ticks": "",
           "title": {
            "standoff": 15
           },
           "zerolinecolor": "white",
           "automargin": true,
           "zerolinewidth": 2
          },
          "yaxis": {
           "gridcolor": "white",
           "linecolor": "white",
           "ticks": "",
           "title": {
            "standoff": 15
           },
           "zerolinecolor": "white",
           "automargin": true,
           "zerolinewidth": 2
          },
          "scene": {
           "xaxis": {
            "backgroundcolor": "#E5ECF6",
            "gridcolor": "white",
            "linecolor": "white",
            "showbackground": true,
            "ticks": "",
            "zerolinecolor": "white",
            "gridwidth": 2
           },
           "yaxis": {
            "backgroundcolor": "#E5ECF6",
            "gridcolor": "white",
            "linecolor": "white",
            "showbackground": true,
            "ticks": "",
            "zerolinecolor": "white",
            "gridwidth": 2
           },
           "zaxis": {
            "backgroundcolor": "#E5ECF6",
            "gridcolor": "white",
            "linecolor": "white",
            "showbackground": true,
            "ticks": "",
            "zerolinecolor": "white",
            "gridwidth": 2
           }
          },
          "shapedefaults": {
           "line": {
            "color": "#2a3f5f"
           }
          },
          "annotationdefaults": {
           "arrowcolor": "#2a3f5f",
           "arrowhead": 0,
           "arrowwidth": 1
          },
          "geo": {
           "bgcolor": "white",
           "landcolor": "#E5ECF6",
           "subunitcolor": "white",
           "showland": true,
           "showlakes": true,
           "lakecolor": "white"
          },
          "title": {
           "x": 0.05
          },
          "mapbox": {
           "style": "light"
          }
         }
        },
        "legend": {
         "title": {
          "text": "Tolerance inner:"
         }
        }
       },
       "config": {
        "plotlyServerURL": "https://plot.ly"
       }
      },
      "text/html": "<div>                            <div id=\"7da5cf3d-5478-42da-b925-613bda52f0a4\" class=\"plotly-graph-div\" style=\"height:600px; width:800px;\"></div>            <script type=\"text/javascript\">                require([\"plotly\"], function(Plotly) {                    window.PLOTLYENV=window.PLOTLYENV || {};                                    if (document.getElementById(\"7da5cf3d-5478-42da-b925-613bda52f0a4\")) {                    Plotly.newPlot(                        \"7da5cf3d-5478-42da-b925-613bda52f0a4\",                        [{\"mode\":\"lines+markers\",\"name\":\"0.1\",\"showlegend\":true,\"x\":[0.0,0.02488994598388672,0.06298065185546875,0.08806896209716797,0.1139364242553711,0.1430346965789795,0.17205071449279785,0.2025911808013916,0.22589802742004395,0.25708556175231934,0.278749942779541,0.30696940422058105],\"y\":[6.045756934487548,0.8219499385217847,-0.10834227248596809,-1.0980585746223603,-2.0970271698764393,-3.0969218007222596,-4.096910892954916,-5.096910853455984,-6.096914605870495,-7.097052875326707,-8.096519792677938,-9.098695720391166],\"type\":\"scatter\"},{\"mode\":\"lines+markers\",\"name\":\"0.01\",\"showlegend\":true,\"x\":[0.0,0.019016265869140625,0.050405263900756836,0.06986761093139648,0.09240031242370605,0.11564016342163086,0.13572263717651367,0.15553522109985352,0.18338513374328613,0.208099365234375,0.2363119125366211,0.2592284679412842],\"y\":[6.045756934487548,0.8219499385217847,-0.10883611802725311,-1.0980882302643347,-2.0970292125229006,-3.096921958721989,-4.096911110199102,-5.096912235920716,-6.096883007603431,-7.096993611597819,-8.095534327127114,-9.121076500268524],\"type\":\"scatter\"},{\"mode\":\"lines+markers\",\"name\":\"1e-05\",\"showlegend\":true,\"x\":[0.0,0.015994787216186523,0.05197906494140625,0.08193635940551758,0.10921049118041992,0.13500213623046875,0.16324853897094727,0.19578909873962402,0.22664189338684082,0.2522604465484619,0.2746255397796631,0.29784464836120605],\"y\":[6.045756934487548,0.8219499385217847,-0.10888876649489096,-1.0981035126282093,-2.097029244328207,-3.0969219290970353,-4.096911110199102,-5.096912828406949,-6.096938306079615,-7.096993611597819,-8.097705310653145,-9.092786860780647],\"type\":\"scatter\"},{\"mode\":\"lines+markers\",\"name\":\"1e-08\",\"showlegend\":true,\"x\":[0.0,0.019651174545288086,0.045064687728881836,0.08033037185668945,0.11852526664733887,0.1544179916381836,0.17969727516174316,0.20550751686096191,0.23413491249084473,0.2592504024505615,0.2930891513824463,0.36829209327697754],\"y\":[6.045756934487548,0.8131306314999229,-0.10888876651722286,-1.0981035128658545,-2.097029247093886,-3.096921921197048,-4.096911090449626,-5.096911643435292,-6.096928430835302,-7.097210951485476,-8.098299285418953,-9.077411999213693],\"type\":\"scatter\"},{\"mode\":\"lines+markers\",\"name\":\"1e-10\",\"showlegend\":true,\"x\":[0.0,0.027822256088256836,0.05307817459106445,0.07868695259094238,0.10314583778381348,0.13234233856201172,0.16691231727600098,0.20014214515686035,0.22904562950134277,0.2543222904205322,0.28502488136291504,0.3126373291015625],\"y\":[6.045756934487548,0.8068476697363917,-0.1088887664989513,-1.0981035125291905,-2.097029245711046,-3.0969219389720197,-4.096911189197015,-5.096910655961382,-6.09690473116507,-7.096875108395873,-8.097112147143813,-9.060741934283147],\"type\":\"scatter\"}],                        {\"autosize\":false,\"height\":600,\"margin\":{\"b\":100,\"l\":50,\"pad\":4,\"r\":50,\"t\":100},\"title\":{\"text\":\"\\u0413\\u0430\\u0440\\u0430\\u043d\\u0442\\u0438\\u0440\\u0443\\u0435\\u043c\\u0430\\u044f \\u0442\\u043e\\u0447\\u043d\\u043e\\u0441\\u0442\\u044c \\u043f\\u043e \\u0437\\u0430\\u0437\\u043e\\u0440\\u0443 \\u0434\\u0432\\u043e\\u0439\\u0441\\u0442\\u0432\\u0435\\u043d\\u043d\\u043e\\u0441\\u0442\\u0438 \\u043f\\u0440\\u043e\\u0442\\u0438\\u0432 \\u0432\\u0440\\u0435\\u043c\\u0435\\u043d\\u0438 \\u0440\\u0430\\u0431\\u043e\\u0442\\u044b\"},\"width\":800,\"xaxis\":{\"linecolor\":\"black\",\"linewidth\":1,\"mirror\":true,\"title\":{\"text\":\"\\u0412\\u0440\\u0435\\u043c\\u044f, \\u0441\\u0435\\u043a\"}},\"yaxis\":{\"linecolor\":\"black\",\"linewidth\":1,\"mirror\":true,\"title\":{\"text\":\"$log_{10}\\\\left( gap \\\\right)$\"}},\"template\":{\"data\":{\"histogram2dcontour\":[{\"type\":\"histogram2dcontour\",\"colorbar\":{\"outlinewidth\":0,\"ticks\":\"\"},\"colorscale\":[[0.0,\"#0d0887\"],[0.1111111111111111,\"#46039f\"],[0.2222222222222222,\"#7201a8\"],[0.3333333333333333,\"#9c179e\"],[0.4444444444444444,\"#bd3786\"],[0.5555555555555556,\"#d8576b\"],[0.6666666666666666,\"#ed7953\"],[0.7777777777777778,\"#fb9f3a\"],[0.8888888888888888,\"#fdca26\"],[1.0,\"#f0f921\"]]}],\"choropleth\":[{\"type\":\"choropleth\",\"colorbar\":{\"outlinewidth\":0,\"ticks\":\"\"}}],\"histogram2d\":[{\"type\":\"histogram2d\",\"colorbar\":{\"outlinewidth\":0,\"ticks\":\"\"},\"colorscale\":[[0.0,\"#0d0887\"],[0.1111111111111111,\"#46039f\"],[0.2222222222222222,\"#7201a8\"],[0.3333333333333333,\"#9c179e\"],[0.4444444444444444,\"#bd3786\"],[0.5555555555555556,\"#d8576b\"],[0.6666666666666666,\"#ed7953\"],[0.7777777777777778,\"#fb9f3a\"],[0.8888888888888888,\"#fdca26\"],[1.0,\"#f0f921\"]]}],\"heatmap\":[{\"type\":\"heatmap\",\"colorbar\":{\"outlinewidth\":0,\"ticks\":\"\"},\"colorscale\":[[0.0,\"#0d0887\"],[0.1111111111111111,\"#46039f\"],[0.2222222222222222,\"#7201a8\"],[0.3333333333333333,\"#9c179e\"],[0.4444444444444444,\"#bd3786\"],[0.5555555555555556,\"#d8576b\"],[0.6666666666666666,\"#ed7953\"],[0.7777777777777778,\"#fb9f3a\"],[0.8888888888888888,\"#fdca26\"],[1.0,\"#f0f921\"]]}],\"heatmapgl\":[{\"type\":\"heatmapgl\",\"colorbar\":{\"outlinewidth\":0,\"ticks\":\"\"},\"colorscale\":[[0.0,\"#0d0887\"],[0.1111111111111111,\"#46039f\"],[0.2222222222222222,\"#7201a8\"],[0.3333333333333333,\"#9c179e\"],[0.4444444444444444,\"#bd3786\"],[0.5555555555555556,\"#d8576b\"],[0.6666666666666666,\"#ed7953\"],[0.7777777777777778,\"#fb9f3a\"],[0.8888888888888888,\"#fdca26\"],[1.0,\"#f0f921\"]]}],\"contourcarpet\":[{\"type\":\"contourcarpet\",\"colorbar\":{\"outlinewidth\":0,\"ticks\":\"\"}}],\"contour\":[{\"type\":\"contour\",\"colorbar\":{\"outlinewidth\":0,\"ticks\":\"\"},\"colorscale\":[[0.0,\"#0d0887\"],[0.1111111111111111,\"#46039f\"],[0.2222222222222222,\"#7201a8\"],[0.3333333333333333,\"#9c179e\"],[0.4444444444444444,\"#bd3786\"],[0.5555555555555556,\"#d8576b\"],[0.6666666666666666,\"#ed7953\"],[0.7777777777777778,\"#fb9f3a\"],[0.8888888888888888,\"#fdca26\"],[1.0,\"#f0f921\"]]}],\"surface\":[{\"type\":\"surface\",\"colorbar\":{\"outlinewidth\":0,\"ticks\":\"\"},\"colorscale\":[[0.0,\"#0d0887\"],[0.1111111111111111,\"#46039f\"],[0.2222222222222222,\"#7201a8\"],[0.3333333333333333,\"#9c179e\"],[0.4444444444444444,\"#bd3786\"],[0.5555555555555556,\"#d8576b\"],[0.6666666666666666,\"#ed7953\"],[0.7777777777777778,\"#fb9f3a\"],[0.8888888888888888,\"#fdca26\"],[1.0,\"#f0f921\"]]}],\"mesh3d\":[{\"type\":\"mesh3d\",\"colorbar\":{\"outlinewidth\":0,\"ticks\":\"\"}}],\"scatter\":[{\"fillpattern\":{\"fillmode\":\"overlay\",\"size\":10,\"solidity\":0.2},\"type\":\"scatter\"}],\"parcoords\":[{\"type\":\"parcoords\",\"line\":{\"colorbar\":{\"outlinewidth\":0,\"ticks\":\"\"}}}],\"scatterpolargl\":[{\"type\":\"scatterpolargl\",\"marker\":{\"colorbar\":{\"outlinewidth\":0,\"ticks\":\"\"}}}],\"bar\":[{\"error_x\":{\"color\":\"#2a3f5f\"},\"error_y\":{\"color\":\"#2a3f5f\"},\"marker\":{\"line\":{\"color\":\"#E5ECF6\",\"width\":0.5},\"pattern\":{\"fillmode\":\"overlay\",\"size\":10,\"solidity\":0.2}},\"type\":\"bar\"}],\"scattergeo\":[{\"type\":\"scattergeo\",\"marker\":{\"colorbar\":{\"outlinewidth\":0,\"ticks\":\"\"}}}],\"scatterpolar\":[{\"type\":\"scatterpolar\",\"marker\":{\"colorbar\":{\"outlinewidth\":0,\"ticks\":\"\"}}}],\"histogram\":[{\"marker\":{\"pattern\":{\"fillmode\":\"overlay\",\"size\":10,\"solidity\":0.2}},\"type\":\"histogram\"}],\"scattergl\":[{\"type\":\"scattergl\",\"marker\":{\"colorbar\":{\"outlinewidth\":0,\"ticks\":\"\"}}}],\"scatter3d\":[{\"type\":\"scatter3d\",\"line\":{\"colorbar\":{\"outlinewidth\":0,\"ticks\":\"\"}},\"marker\":{\"colorbar\":{\"outlinewidth\":0,\"ticks\":\"\"}}}],\"scattermapbox\":[{\"type\":\"scattermapbox\",\"marker\":{\"colorbar\":{\"outlinewidth\":0,\"ticks\":\"\"}}}],\"scatterternary\":[{\"type\":\"scatterternary\",\"marker\":{\"colorbar\":{\"outlinewidth\":0,\"ticks\":\"\"}}}],\"scattercarpet\":[{\"type\":\"scattercarpet\",\"marker\":{\"colorbar\":{\"outlinewidth\":0,\"ticks\":\"\"}}}],\"carpet\":[{\"aaxis\":{\"endlinecolor\":\"#2a3f5f\",\"gridcolor\":\"white\",\"linecolor\":\"white\",\"minorgridcolor\":\"white\",\"startlinecolor\":\"#2a3f5f\"},\"baxis\":{\"endlinecolor\":\"#2a3f5f\",\"gridcolor\":\"white\",\"linecolor\":\"white\",\"minorgridcolor\":\"white\",\"startlinecolor\":\"#2a3f5f\"},\"type\":\"carpet\"}],\"table\":[{\"cells\":{\"fill\":{\"color\":\"#EBF0F8\"},\"line\":{\"color\":\"white\"}},\"header\":{\"fill\":{\"color\":\"#C8D4E3\"},\"line\":{\"color\":\"white\"}},\"type\":\"table\"}],\"barpolar\":[{\"marker\":{\"line\":{\"color\":\"#E5ECF6\",\"width\":0.5},\"pattern\":{\"fillmode\":\"overlay\",\"size\":10,\"solidity\":0.2}},\"type\":\"barpolar\"}],\"pie\":[{\"automargin\":true,\"type\":\"pie\"}]},\"layout\":{\"autotypenumbers\":\"strict\",\"colorway\":[\"#636efa\",\"#EF553B\",\"#00cc96\",\"#ab63fa\",\"#FFA15A\",\"#19d3f3\",\"#FF6692\",\"#B6E880\",\"#FF97FF\",\"#FECB52\"],\"font\":{\"color\":\"#2a3f5f\"},\"hovermode\":\"closest\",\"hoverlabel\":{\"align\":\"left\"},\"paper_bgcolor\":\"white\",\"plot_bgcolor\":\"#E5ECF6\",\"polar\":{\"bgcolor\":\"#E5ECF6\",\"angularaxis\":{\"gridcolor\":\"white\",\"linecolor\":\"white\",\"ticks\":\"\"},\"radialaxis\":{\"gridcolor\":\"white\",\"linecolor\":\"white\",\"ticks\":\"\"}},\"ternary\":{\"bgcolor\":\"#E5ECF6\",\"aaxis\":{\"gridcolor\":\"white\",\"linecolor\":\"white\",\"ticks\":\"\"},\"baxis\":{\"gridcolor\":\"white\",\"linecolor\":\"white\",\"ticks\":\"\"},\"caxis\":{\"gridcolor\":\"white\",\"linecolor\":\"white\",\"ticks\":\"\"}},\"coloraxis\":{\"colorbar\":{\"outlinewidth\":0,\"ticks\":\"\"}},\"colorscale\":{\"sequential\":[[0.0,\"#0d0887\"],[0.1111111111111111,\"#46039f\"],[0.2222222222222222,\"#7201a8\"],[0.3333333333333333,\"#9c179e\"],[0.4444444444444444,\"#bd3786\"],[0.5555555555555556,\"#d8576b\"],[0.6666666666666666,\"#ed7953\"],[0.7777777777777778,\"#fb9f3a\"],[0.8888888888888888,\"#fdca26\"],[1.0,\"#f0f921\"]],\"sequentialminus\":[[0.0,\"#0d0887\"],[0.1111111111111111,\"#46039f\"],[0.2222222222222222,\"#7201a8\"],[0.3333333333333333,\"#9c179e\"],[0.4444444444444444,\"#bd3786\"],[0.5555555555555556,\"#d8576b\"],[0.6666666666666666,\"#ed7953\"],[0.7777777777777778,\"#fb9f3a\"],[0.8888888888888888,\"#fdca26\"],[1.0,\"#f0f921\"]],\"diverging\":[[0,\"#8e0152\"],[0.1,\"#c51b7d\"],[0.2,\"#de77ae\"],[0.3,\"#f1b6da\"],[0.4,\"#fde0ef\"],[0.5,\"#f7f7f7\"],[0.6,\"#e6f5d0\"],[0.7,\"#b8e186\"],[0.8,\"#7fbc41\"],[0.9,\"#4d9221\"],[1,\"#276419\"]]},\"xaxis\":{\"gridcolor\":\"white\",\"linecolor\":\"white\",\"ticks\":\"\",\"title\":{\"standoff\":15},\"zerolinecolor\":\"white\",\"automargin\":true,\"zerolinewidth\":2},\"yaxis\":{\"gridcolor\":\"white\",\"linecolor\":\"white\",\"ticks\":\"\",\"title\":{\"standoff\":15},\"zerolinecolor\":\"white\",\"automargin\":true,\"zerolinewidth\":2},\"scene\":{\"xaxis\":{\"backgroundcolor\":\"#E5ECF6\",\"gridcolor\":\"white\",\"linecolor\":\"white\",\"showbackground\":true,\"ticks\":\"\",\"zerolinecolor\":\"white\",\"gridwidth\":2},\"yaxis\":{\"backgroundcolor\":\"#E5ECF6\",\"gridcolor\":\"white\",\"linecolor\":\"white\",\"showbackground\":true,\"ticks\":\"\",\"zerolinecolor\":\"white\",\"gridwidth\":2},\"zaxis\":{\"backgroundcolor\":\"#E5ECF6\",\"gridcolor\":\"white\",\"linecolor\":\"white\",\"showbackground\":true,\"ticks\":\"\",\"zerolinecolor\":\"white\",\"gridwidth\":2}},\"shapedefaults\":{\"line\":{\"color\":\"#2a3f5f\"}},\"annotationdefaults\":{\"arrowcolor\":\"#2a3f5f\",\"arrowhead\":0,\"arrowwidth\":1},\"geo\":{\"bgcolor\":\"white\",\"landcolor\":\"#E5ECF6\",\"subunitcolor\":\"white\",\"showland\":true,\"showlakes\":true,\"lakecolor\":\"white\"},\"title\":{\"x\":0.05},\"mapbox\":{\"style\":\"light\"}}},\"legend\":{\"title\":{\"text\":\"Tolerance inner:\"}}},                        {\"responsive\": true}                    ).then(function(){\n                            \nvar gd = document.getElementById('7da5cf3d-5478-42da-b925-613bda52f0a4');\nvar x = new MutationObserver(function (mutations, observer) {{\n        var display = window.getComputedStyle(gd).display;\n        if (!display || display === 'none') {{\n            console.log([gd, 'removed!']);\n            Plotly.purge(gd);\n            observer.disconnect();\n        }}\n}});\n\n// Listen for the removal of the full notebook cells\nvar notebookContainer = gd.closest('#notebook-container');\nif (notebookContainer) {{\n    x.observe(notebookContainer, {childList: true});\n}}\n\n// Listen for the clearing of the current output cell\nvar outputEl = gd.closest('.output');\nif (outputEl) {{\n    x.observe(outputEl, {childList: true});\n}}\n\n                        })                };                });            </script>        </div>"
     },
     "metadata": {},
     "output_type": "display_data"
    }
   ],
   "source": [
    "layout = go.Layout(\n",
    "    autosize=False,\n",
    "    width=800,\n",
    "    height=600,\n",
    "    xaxis=go.layout.XAxis(linecolor=\"black\", linewidth=1, mirror=True),\n",
    "    yaxis=go.layout.YAxis(linecolor=\"black\", linewidth=1, mirror=True),\n",
    "    margin=go.layout.Margin(l=50, r=50, b=100, t=100, pad=4),\n",
    "    title = \"Гарантируемая точность по зазору двойственности против времени работы\",\n",
    "    xaxis_title=\"Время, сек\",\n",
    "    yaxis_title=r'$log_{10}\\left( gap \\right)$'\n",
    ")\n",
    "\n",
    "fig = go.Figure(layout=layout)\n",
    "\n",
    "\n",
    "def plot_line_1(fig, gap, sec, iters, gamma_i):\n",
    "    fig.add_trace(go.Scatter(x=sec, y=gap,\n",
    "                            mode='lines+markers',\n",
    "                            name=str(gamma_i),\n",
    "                            showlegend=True))\n",
    "    fig.update_layout(legend={\"title\":\"Tolerance inner:\"})\n",
    "\n",
    "\n",
    "\n",
    "for gamma_i, dct in dict_eps.items():\n",
    "    gap = np.array(dct['gap'])\n",
    "\n",
    "    sec = np.array(dct['sec'])\n",
    "    iters = dct['iters']\n",
    "    plot_line_1(fig, np.log10(gap), sec, iters, gamma_i)\n",
    "fig.show()"
   ],
   "metadata": {
    "collapsed": false,
    "ExecuteTime": {
     "end_time": "2024-06-03T16:09:55.854703300Z",
     "start_time": "2024-06-03T16:09:55.282010800Z"
    }
   },
   "id": "666d808f672be997",
   "execution_count": 125
  },
  {
   "cell_type": "code",
   "outputs": [],
   "source": [],
   "metadata": {
    "collapsed": false
   },
   "id": "134247f8a95e0e7c"
  }
 ],
 "metadata": {
  "kernelspec": {
   "display_name": "Python 3",
   "language": "python",
   "name": "python3"
  },
  "language_info": {
   "codemirror_mode": {
    "name": "ipython",
    "version": 2
   },
   "file_extension": ".py",
   "mimetype": "text/x-python",
   "name": "python",
   "nbconvert_exporter": "python",
   "pygments_lexer": "ipython2",
   "version": "2.7.6"
  }
 },
 "nbformat": 4,
 "nbformat_minor": 5
}
